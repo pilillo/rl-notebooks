{
 "cells": [
  {
   "cell_type": "markdown",
   "metadata": {},
   "source": [
    "# A primer into TD Learning Algorithms using the Open AI Gym"
   ]
  },
  {
   "cell_type": "markdown",
   "metadata": {},
   "source": [
    "Machine Learning is commonly classified in: i) supervised learning, ii) unsupervised learning and iii) reinforcement learning. Reinforcement learning differs from the supervised and unsupervised learning as the data we are trying to extract a model from is: neither labeled I/O pairs (supervised) from which we want to extract a function approximator nor unlabeled items (i.e., feature vectors) on which we desire identifying a relationship or schema by computing a distance (or viceversa similarity) measure. RL algorithms are types of simulation-based learning algorithms since they commonly require an agent interacting with its environment in order to perceive (with its sensors) a more or less observable environment state, formulate a plan (i.e., a sequence of actions) and actuate them to steer the environment to a different state.\n",
    "\n",
    "![rl-agent](https://upload.wikimedia.org/wikipedia/commons/thumb/1/1b/Reinforcement_learning_diagram.svg/300px-Reinforcement_learning_diagram.svg.png)\n",
    "\n",
    "The basic agent representation is the Markov decision process (MDP), consisting in a set of fully-observable states (i.e., deterministically detected by the agent) connected each other by actions: i) taken by the agent in each state and ii) a stochastic model of the environment, which is probabilistically reacting to the agent. \n",
    "The agent acts based on a task, i.e., he strives for optimizing an objective function, which in the discrete sense can be intended as achieving a certain environment configuration or state. Consequently, the task can have either a continuous (in time terms) or episodic nature, i.e., once achieved certain terminal states the agent's task ends. \n",
    "The agent task is expressed by means of a reward function, returned by the environment after each action.\n",
    "\n",
    "In real life it is not only the environment reaction to be stochastic (i.e. the actuation) but also the perception (i.e., available sensors might yield errors or not be enought to observe certain phenomena), thus leading to more complex mathematical frameworks, such a partially-observable MDPs, or PO-MDPs. The framework can also be further complicated by adding multiple agents and other constraints, but this goes outside the scope of this notebook.\n",
    "\n",
    "The goal of RL algorithms is therefore to learn a policy, defined as: i) a utility value related to each environment state, ii) a state-action pair function mapping the pair to the expected utility of taking a certain action in a specific state. When learning a policy two main aspects need to be considered: i) in the action selection strategy the exploitaion-exploration balance between running the action that leads highest expected reward and randomly selecting a suboptimal one that might eventually lead to higher cumulative reward; ii) in the backing of the achieved reward the \"credit assignment problem\", for which in real world rewards are typically delayed and the agent has to distinguish which actions in the sequence actually lead to the reward, and which instead made it diverge from it. This is typically done by assigning to an action the reward received for the actions that followed, since it would not have been possible by taking a different path. A discount factor is normally employed to give higher weight to closer (to current state) actions in the sequence.\n",
    "\n",
    "Please check the following links for a more complete understanding: \n",
    "\n",
    "RL Introduction\n",
    "* S.Russel, P.Norwig. Artificial Intelligence: a modern approach. Pearson 2010 (3rd edition)\n",
    "* R. S. Sutton and A. G. Barto. Reinforcement Learning: An Introduction. MIT press 1998\n",
    "* C. Szepesvari. Algorithms for Reinforcement Learning. Morgan & Claypool publishers\n",
    "\n",
    "Multiagent RL\n",
    "* N.Nisan, T.Roughgarden, E.Tardos, V.V.Vazirani. Algorithmic game theory. Cambridge press 2007 \n",
    "* G.Weiss (editor). Multi agent systems. MIT press 2013"
   ]
  },
  {
   "cell_type": "markdown",
   "metadata": {},
   "source": [
    "## OpenAI Gym\n",
    "The OpenAI Gym (https://github.com/openai/gym) is an environment specifically made to model control tasks and allow for the comparison of RL algorithms. \n",
    "\n",
    "Let's install it:  \n",
    "`python2.7 -m pip install -U --user gym`\n",
    "\n",
    "We can also install specific modules, such as the Atari environments or just everything:  \n",
    "`python2.7 -m pip install -U --user gym[atari]`  \n",
    "`python2.7 -m pip install -U --user gym[all]`"
   ]
  },
  {
   "cell_type": "code",
   "execution_count": 1,
   "metadata": {
    "collapsed": false
   },
   "outputs": [
    {
     "name": "stderr",
     "output_type": "stream",
     "text": [
      "Using TensorFlow backend.\n"
     ]
    },
    {
     "name": "stdout",
     "output_type": "stream",
     "text": [
      "channels_last\n"
     ]
    }
   ],
   "source": [
    "%matplotlib inline\n",
    "import gym\n",
    "import numpy as np\n",
    "from matplotlib import pyplot\n",
    "from matplotlib.pyplot import imshow\n",
    "\n",
    "from keras import backend as K\n",
    "print K.image_data_format()\n",
    "K.set_image_data_format('channels_last')"
   ]
  },
  {
   "cell_type": "markdown",
   "metadata": {},
   "source": [
    "## 1. Selecting the environment"
   ]
  },
  {
   "cell_type": "markdown",
   "metadata": {},
   "source": [
    "Let's list all available environments:"
   ]
  },
  {
   "cell_type": "code",
   "execution_count": 2,
   "metadata": {
    "collapsed": false,
    "scrolled": true
   },
   "outputs": [
    {
     "name": "stdout",
     "output_type": "stream",
     "text": [
      "[EnvSpec(RoadRunner-ramDeterministic-v4), EnvSpec(Asteroids-ramDeterministic-v0), EnvSpec(Gopher-ramDeterministic-v4), EnvSpec(RoadRunner-ramDeterministic-v0), EnvSpec(KellyCoinflipGeneralized-v0), EnvSpec(Gopher-ramDeterministic-v0), EnvSpec(DoubleDunk-ramDeterministic-v4), EnvSpec(DoubleDunk-ramDeterministic-v0), EnvSpec(Robotank-ram-v0), EnvSpec(CartPole-v0), EnvSpec(CartPole-v1), EnvSpec(Asteroids-ramDeterministic-v4), EnvSpec(Pooyan-ram-v4), EnvSpec(Gopher-ram-v0), EnvSpec(Pooyan-ram-v0), EnvSpec(Gopher-ram-v4), EnvSpec(Pong-ramNoFrameskip-v0), EnvSpec(FrozenLake8x8-v0), EnvSpec(YarsRevenge-ramDeterministic-v4), EnvSpec(CarRacing-v0), EnvSpec(SpaceInvaders-ram-v0), EnvSpec(YarsRevenge-ramDeterministic-v0), EnvSpec(SpaceInvadersDeterministic-v0), EnvSpec(DoubleDunk-ram-v0), EnvSpec(SpaceInvadersDeterministic-v4), EnvSpec(DoubleDunk-ram-v4), EnvSpec(VideoPinballDeterministic-v0), EnvSpec(Centipede-v0), EnvSpec(Centipede-v4), EnvSpec(YarsRevenge-v4), EnvSpec(Pitfall-ramNoFrameskip-v0), EnvSpec(Phoenix-ram-v4), EnvSpec(SpaceInvaders-ram-v4), EnvSpec(Pitfall-ramNoFrameskip-v4), EnvSpec(Frostbite-ramNoFrameskip-v0), EnvSpec(QbertNoFrameskip-v0), EnvSpec(AmidarNoFrameskip-v4), EnvSpec(QbertNoFrameskip-v4), EnvSpec(SkiingNoFrameskip-v4), EnvSpec(SkiingNoFrameskip-v0), EnvSpec(HotterColder-v0), EnvSpec(YarsRevenge-v0), EnvSpec(Phoenix-ram-v0), EnvSpec(Berzerk-ramNoFrameskip-v4), EnvSpec(Berzerk-ramNoFrameskip-v0), EnvSpec(KungFuMaster-ramNoFrameskip-v0), EnvSpec(AirRaidNoFrameskip-v4), EnvSpec(AirRaidDeterministic-v0), EnvSpec(ChopperCommandDeterministic-v4), EnvSpec(AirRaidNoFrameskip-v0), EnvSpec(AirRaidDeterministic-v4), EnvSpec(ChopperCommandDeterministic-v0), EnvSpec(Asteroids-ram-v0), EnvSpec(Asteroids-ram-v4), EnvSpec(TutankhamDeterministic-v0), EnvSpec(KrullDeterministic-v0), EnvSpec(MsPacman-ramNoFrameskip-v0), EnvSpec(Atlantis-ramDeterministic-v0), EnvSpec(KrullDeterministic-v4), EnvSpec(MsPacman-ramNoFrameskip-v4), EnvSpec(Atlantis-ramDeterministic-v4), EnvSpec(PhoenixNoFrameskip-v4), EnvSpec(PitfallDeterministic-v0), EnvSpec(Solaris-ram-v0), EnvSpec(Solaris-ram-v4), EnvSpec(Solaris-ramNoFrameskip-v4), EnvSpec(FishingDerbyNoFrameskip-v4), EnvSpec(VentureDeterministic-v4), EnvSpec(FishingDerbyNoFrameskip-v0), EnvSpec(VentureDeterministic-v0), EnvSpec(PhoenixNoFrameskip-v0), EnvSpec(Zaxxon-ramDeterministic-v0), EnvSpec(Qbert-v4), EnvSpec(ReversedAddition-v0), EnvSpec(Qbert-v0), EnvSpec(Robotank-ram-v4), EnvSpec(Pitfall-v0), EnvSpec(Pitfall-v4), EnvSpec(BipedalWalkerHardcore-v2), EnvSpec(Venture-ram-v4), EnvSpec(Venture-ram-v0), EnvSpec(MontezumaRevenge-ramNoFrameskip-v4), EnvSpec(MontezumaRevenge-ramNoFrameskip-v0), EnvSpec(Phoenix-ramNoFrameskip-v0), EnvSpec(Go9x9-v0), EnvSpec(MountainCarContinuous-v0), EnvSpec(SemisuperPendulumNoise-v0), EnvSpec(Reacher-v1), EnvSpec(ChopperCommand-ramNoFrameskip-v0), EnvSpec(ChopperCommand-ramNoFrameskip-v4), EnvSpec(Taxi-v2), EnvSpec(ZaxxonDeterministic-v0), EnvSpec(Pong-v0), EnvSpec(Enduro-v4), EnvSpec(Tutankham-ramDeterministic-v4), EnvSpec(Enduro-v0), EnvSpec(Tutankham-ramDeterministic-v0), EnvSpec(Krull-ramNoFrameskip-v0), EnvSpec(Krull-ramNoFrameskip-v4), EnvSpec(Freeway-ramNoFrameskip-v4), EnvSpec(ElevatorAction-ramNoFrameskip-v0), EnvSpec(ElevatorAction-ramNoFrameskip-v4), EnvSpec(StarGunner-ramNoFrameskip-v0), EnvSpec(AsteroidsDeterministic-v4), EnvSpec(StarGunner-ramNoFrameskip-v4), EnvSpec(Breakout-ram-v0), EnvSpec(Skiing-ram-v4), EnvSpec(Breakout-ram-v4), EnvSpec(Freeway-ram-v4), EnvSpec(Bowling-v0), EnvSpec(BattleZoneDeterministic-v4), EnvSpec(Bowling-v4), EnvSpec(BattleZoneDeterministic-v0), EnvSpec(AirRaid-ramDeterministic-v4), EnvSpec(AirRaid-ramDeterministic-v0), EnvSpec(CentipedeNoFrameskip-v0), EnvSpec(Skiing-ram-v0), EnvSpec(CentipedeNoFrameskip-v4), EnvSpec(Freeway-ram-v0), EnvSpec(Riverraid-ramNoFrameskip-v4), EnvSpec(ConvergenceControl-v0), EnvSpec(Riverraid-ramNoFrameskip-v0), EnvSpec(Pooyan-v4), EnvSpec(TimePilot-ramDeterministic-v4), EnvSpec(ChopperCommand-v0), EnvSpec(Pooyan-v0), EnvSpec(ChopperCommand-v4), EnvSpec(BattleZoneNoFrameskip-v0), EnvSpec(Alien-ramNoFrameskip-v4), EnvSpec(PrivateEye-v0), EnvSpec(BattleZoneNoFrameskip-v4), EnvSpec(Alien-ramNoFrameskip-v0), EnvSpec(PrivateEye-v4), EnvSpec(TimePilot-ramDeterministic-v0), EnvSpec(UpNDown-ramDeterministic-v4), EnvSpec(LunarLanderContinuous-v2), EnvSpec(TutankhamDeterministic-v4), EnvSpec(UpNDown-ramDeterministic-v0), EnvSpec(Phoenix-ramNoFrameskip-v4), EnvSpec(Freeway-ramNoFrameskip-v0), EnvSpec(KungFuMaster-ram-v4), EnvSpec(Asterix-ram-v0), EnvSpec(Jamesbond-ramNoFrameskip-v4), EnvSpec(Asterix-ram-v4), EnvSpec(Jamesbond-ramNoFrameskip-v0), EnvSpec(JourneyEscape-v0), EnvSpec(CrazyClimberDeterministic-v4), EnvSpec(SpaceInvaders-ramDeterministic-v4), EnvSpec(BipedalWalker-v2), EnvSpec(CrazyClimberDeterministic-v0), EnvSpec(QbertDeterministic-v0), EnvSpec(QbertDeterministic-v4), EnvSpec(KungFuMaster-ram-v0), EnvSpec(SolarisDeterministic-v0), EnvSpec(SolarisDeterministic-v4), EnvSpec(YarsRevengeDeterministic-v0), EnvSpec(SpaceInvaders-ramDeterministic-v0), EnvSpec(YarsRevengeDeterministic-v4), EnvSpec(TwoRoundDeterministicReward-v0), EnvSpec(Bowling-ramNoFrameskip-v0), EnvSpec(Bowling-ramNoFrameskip-v4), EnvSpec(TimePilotNoFrameskip-v4), EnvSpec(AmidarNoFrameskip-v0), EnvSpec(Seaquest-v0), EnvSpec(TimePilotNoFrameskip-v0), EnvSpec(MsPacmanDeterministic-v0), EnvSpec(Pooyan-ramDeterministic-v4), EnvSpec(Pooyan-ramDeterministic-v0), EnvSpec(PhoenixDeterministic-v4), EnvSpec(PhoenixDeterministic-v0), EnvSpec(CrazyClimber-ram-v0), EnvSpec(Frostbite-ramNoFrameskip-v4), EnvSpec(PredictActionsCartpole-v0), EnvSpec(CrazyClimber-ram-v4), EnvSpec(MontezumaRevenge-ram-v4), EnvSpec(MsPacmanDeterministic-v4), EnvSpec(BeamRider-ramDeterministic-v4), EnvSpec(Centipede-ramNoFrameskip-v0), EnvSpec(BeamRider-ramDeterministic-v0), EnvSpec(Centipede-ramNoFrameskip-v4), EnvSpec(KungFuMaster-v0), EnvSpec(OffSwitchCartpole-v0), EnvSpec(KungFuMaster-v4), EnvSpec(Jamesbond-ramDeterministic-v4), EnvSpec(Tennis-ramDeterministic-v4), EnvSpec(BreakoutDeterministic-v4), EnvSpec(Jamesbond-ramDeterministic-v0), EnvSpec(Tennis-ramDeterministic-v0), EnvSpec(BreakoutDeterministic-v0), EnvSpec(IceHockey-v0), EnvSpec(IceHockey-v4), EnvSpec(Pitfall-ramDeterministic-v4), EnvSpec(Venture-ramDeterministic-v0), EnvSpec(RobotankDeterministic-v4), EnvSpec(PongDeterministic-v4), EnvSpec(Venture-ramDeterministic-v4), EnvSpec(RobotankDeterministic-v0), EnvSpec(PongDeterministic-v0), EnvSpec(Pong-ramDeterministic-v0), EnvSpec(SeaquestNoFrameskip-v0), EnvSpec(Pong-ramDeterministic-v4), EnvSpec(SeaquestNoFrameskip-v4), EnvSpec(NameThisGame-ramNoFrameskip-v0), EnvSpec(Berzerk-v4), EnvSpec(Berzerk-v0), EnvSpec(MontezumaRevenge-v4), EnvSpec(TwoRoundNondeterministicReward-v0), EnvSpec(JourneyEscape-ramDeterministic-v4), EnvSpec(MontezumaRevenge-v0), EnvSpec(JourneyEscape-ramDeterministic-v0), EnvSpec(AirRaid-ram-v0), EnvSpec(Carnival-ram-v0), EnvSpec(AirRaid-ram-v4), EnvSpec(Zaxxon-v0), EnvSpec(KellyCoinflip-v0), EnvSpec(Carnival-ram-v4), EnvSpec(YarsRevenge-ramNoFrameskip-v0), EnvSpec(BeamRiderDeterministic-v0), EnvSpec(YarsRevenge-ramNoFrameskip-v4), EnvSpec(BeamRiderDeterministic-v4), EnvSpec(JourneyEscape-v4), EnvSpec(Phoenix-ramDeterministic-v0), EnvSpec(Phoenix-ramDeterministic-v4), EnvSpec(Skiing-v4), EnvSpec(Skiing-v0), EnvSpec(Boxing-ramDeterministic-v4), EnvSpec(Boxing-ramDeterministic-v0), EnvSpec(YarsRevenge-ram-v0), EnvSpec(PrivateEye-ram-v4), EnvSpec(PrivateEye-ram-v0), EnvSpec(Centipede-ramDeterministic-v0), EnvSpec(JourneyEscapeNoFrameskip-v4), EnvSpec(Centipede-ramDeterministic-v4), EnvSpec(JourneyEscapeNoFrameskip-v0), EnvSpec(BattleZone-ramDeterministic-v0), EnvSpec(NameThisGameNoFrameskip-v4), EnvSpec(Thrower-v0), EnvSpec(BattleZone-ramDeterministic-v4), EnvSpec(NameThisGameNoFrameskip-v0), EnvSpec(YarsRevenge-ram-v4), EnvSpec(Seaquest-ram-v0), EnvSpec(AsteroidsDeterministic-v0), EnvSpec(ElevatorAction-ram-v4), EnvSpec(Robotank-ramDeterministic-v0), EnvSpec(ElevatorAction-ram-v0), EnvSpec(ChopperCommand-ramDeterministic-v0), EnvSpec(Krull-ramDeterministic-v4), EnvSpec(ChopperCommand-ramDeterministic-v4), EnvSpec(Krull-ramDeterministic-v0), EnvSpec(BankHeistDeterministic-v0), EnvSpec(Frostbite-ram-v0), EnvSpec(BankHeistDeterministic-v4), EnvSpec(Frostbite-ram-v4), EnvSpec(Reverse-v0), EnvSpec(SeaquestDeterministic-v4), EnvSpec(Venture-ramNoFrameskip-v0), EnvSpec(SeaquestDeterministic-v0), EnvSpec(Robotank-ramDeterministic-v4), EnvSpec(JourneyEscape-ram-v0), EnvSpec(JourneyEscape-ram-v4), EnvSpec(VentureNoFrameskip-v4), EnvSpec(BerzerkDeterministic-v4), EnvSpec(VentureNoFrameskip-v0), EnvSpec(BerzerkDeterministic-v0), EnvSpec(AssaultNoFrameskip-v0), EnvSpec(Enduro-ramDeterministic-v0), EnvSpec(Tennis-ramNoFrameskip-v0), EnvSpec(Zaxxon-ramNoFrameskip-v4), EnvSpec(AssaultNoFrameskip-v4), EnvSpec(Enduro-ramDeterministic-v4), EnvSpec(Tennis-ramNoFrameskip-v4), EnvSpec(Gopher-ramNoFrameskip-v0), EnvSpec(IceHockey-ramDeterministic-v0), EnvSpec(Gopher-ramNoFrameskip-v4), EnvSpec(IceHockey-ramDeterministic-v4), EnvSpec(Humanoid-v1), EnvSpec(StarGunner-ramDeterministic-v0), EnvSpec(NameThisGame-ram-v4), EnvSpec(Tutankham-ramNoFrameskip-v4), EnvSpec(NameThisGame-ram-v0), EnvSpec(Tutankham-ramNoFrameskip-v0), EnvSpec(SemisuperPendulumRandom-v0), EnvSpec(Assault-ramDeterministic-v4), EnvSpec(Atlantis-ramNoFrameskip-v4), EnvSpec(EnduroDeterministic-v4), EnvSpec(Assault-ramDeterministic-v0), EnvSpec(Atlantis-ramNoFrameskip-v0), EnvSpec(EnduroDeterministic-v0), EnvSpec(BreakoutNoFrameskip-v0), EnvSpec(BreakoutNoFrameskip-v4), EnvSpec(OffSwitchCartpoleProb-v0), EnvSpec(NameThisGame-ramDeterministic-v4), EnvSpec(RoadRunner-ramNoFrameskip-v4), EnvSpec(NameThisGame-ramDeterministic-v0), EnvSpec(Frostbite-ramDeterministic-v4), EnvSpec(Frostbite-ramDeterministic-v0), EnvSpec(BankHeist-ramNoFrameskip-v4), EnvSpec(BankHeist-ramNoFrameskip-v0), EnvSpec(Qbert-ramNoFrameskip-v0), EnvSpec(Ant-v1), EnvSpec(RoadRunner-ramNoFrameskip-v0), EnvSpec(Qbert-ramNoFrameskip-v4), EnvSpec(Hero-ramNoFrameskip-v4), EnvSpec(Go19x19-v0), EnvSpec(Hero-ramNoFrameskip-v0), EnvSpec(Tennis-v0), EnvSpec(BeamRiderNoFrameskip-v4), EnvSpec(FishingDerby-ram-v0), EnvSpec(Enduro-ramNoFrameskip-v4), EnvSpec(FrostbiteNoFrameskip-v0), EnvSpec(BeamRiderNoFrameskip-v0), EnvSpec(FishingDerby-ram-v4), EnvSpec(Enduro-ramNoFrameskip-v0), EnvSpec(FrostbiteNoFrameskip-v4), EnvSpec(Gravitar-ramNoFrameskip-v4), EnvSpec(Skiing-ramNoFrameskip-v4), EnvSpec(CentipedeDeterministic-v4), EnvSpec(ReversedAddition3-v0), EnvSpec(Gravitar-ramNoFrameskip-v0), EnvSpec(Skiing-ramNoFrameskip-v0), EnvSpec(CentipedeDeterministic-v0), EnvSpec(Kangaroo-ram-v4), EnvSpec(Kangaroo-ram-v0), EnvSpec(VideoPinball-ramNoFrameskip-v0), EnvSpec(VideoPinball-ramNoFrameskip-v4), EnvSpec(Atlantis-ram-v4), EnvSpec(PongNoFrameskip-v4), EnvSpec(StarGunnerDeterministic-v0), EnvSpec(PongNoFrameskip-v0), EnvSpec(StarGunnerDeterministic-v4), EnvSpec(TimePilotDeterministic-v0), EnvSpec(CNNClassifierTraining-v0), EnvSpec(TimePilotDeterministic-v4), EnvSpec(Boxing-ram-v0), EnvSpec(Boxing-ram-v4), EnvSpec(Jamesbond-v4), EnvSpec(StarGunner-v0), EnvSpec(StarGunner-v4), EnvSpec(DemonAttackNoFrameskip-v0), EnvSpec(DemonAttackNoFrameskip-v4), EnvSpec(PooyanDeterministic-v0), EnvSpec(Amidar-ram-v4), EnvSpec(Jamesbond-v0), EnvSpec(Amidar-ram-v0), EnvSpec(ChopperCommandNoFrameskip-v0), EnvSpec(ChopperCommandNoFrameskip-v4), EnvSpec(Solaris-ramDeterministic-v4), EnvSpec(ElevatorActionDeterministic-v4), EnvSpec(Solaris-ramDeterministic-v0), EnvSpec(ElevatorActionDeterministic-v0), EnvSpec(Riverraid-ram-v0), EnvSpec(Riverraid-ram-v4), EnvSpec(Bowling-ramDeterministic-v0), EnvSpec(BattleZone-v0), EnvSpec(BattleZone-v4), EnvSpec(MsPacmanNoFrameskip-v0), EnvSpec(MsPacmanNoFrameskip-v4), EnvSpec(Bowling-ramDeterministic-v4), EnvSpec(Breakout-ramDeterministic-v0), EnvSpec(SolarisNoFrameskip-v0), EnvSpec(VideoPinballNoFrameskip-v0), EnvSpec(Breakout-ramDeterministic-v4), EnvSpec(SolarisNoFrameskip-v4), EnvSpec(VideoPinballNoFrameskip-v4), EnvSpec(PrivateEye-ramDeterministic-v0), EnvSpec(WizardOfWor-ram-v0), EnvSpec(PrivateEye-ramDeterministic-v4), EnvSpec(WizardOfWor-ram-v4), EnvSpec(Gravitar-v4), EnvSpec(RoadRunner-v4), EnvSpec(Gravitar-v0), EnvSpec(RoadRunner-v0), EnvSpec(MsPacman-ram-v4), EnvSpec(RoadRunner-ram-v0), EnvSpec(MsPacman-ram-v0), EnvSpec(RoadRunner-ram-v4), EnvSpec(Riverraid-ramDeterministic-v0), EnvSpec(Jamesbond-ram-v0), EnvSpec(Riverraid-ramDeterministic-v4), EnvSpec(VideoPinball-ram-v0), EnvSpec(UpNDownNoFrameskip-v0), EnvSpec(VideoPinball-ram-v4), EnvSpec(OneRoundDeterministicReward-v0), EnvSpec(FreewayNoFrameskip-v4), EnvSpec(WizardOfWorNoFrameskip-v0), EnvSpec(FreewayNoFrameskip-v0), EnvSpec(WizardOfWorNoFrameskip-v4), EnvSpec(Asterix-ramNoFrameskip-v0), EnvSpec(AlienNoFrameskip-v4), EnvSpec(Jamesbond-ram-v4), EnvSpec(Asterix-ramNoFrameskip-v4), EnvSpec(AlienNoFrameskip-v0), EnvSpec(BankHeist-ramDeterministic-v4), EnvSpec(UpNDownNoFrameskip-v4), EnvSpec(BankHeist-ramDeterministic-v0), EnvSpec(InvertedDoublePendulum-v1), EnvSpec(AsteroidsNoFrameskip-v4), EnvSpec(TimePilot-v4), EnvSpec(Asterix-v0), EnvSpec(AsteroidsNoFrameskip-v0), EnvSpec(TimePilot-v0), EnvSpec(Asterix-v4), EnvSpec(HeroDeterministic-v4), EnvSpec(ZaxxonDeterministic-v4), EnvSpec(HeroDeterministic-v0), EnvSpec(RiverraidNoFrameskip-v4), EnvSpec(WizardOfWor-ramNoFrameskip-v4), EnvSpec(ChopperCommand-ram-v4), EnvSpec(ChopperCommand-ram-v0), EnvSpec(SpaceInvaders-ramNoFrameskip-v0), EnvSpec(BowlingDeterministic-v4), EnvSpec(JamesbondDeterministic-v0), EnvSpec(SpaceInvaders-ramNoFrameskip-v4), EnvSpec(BowlingDeterministic-v0), EnvSpec(BankHeist-v0), EnvSpec(WizardOfWor-ramDeterministic-v0), EnvSpec(BankHeist-v4), EnvSpec(MsPacman-ramDeterministic-v4), EnvSpec(RiverraidNoFrameskip-v0), EnvSpec(NChain-v0), EnvSpec(FishingDerby-ramDeterministic-v0), EnvSpec(PredictObsCartpole-v0), EnvSpec(FishingDerby-ramDeterministic-v4), EnvSpec(CrazyClimber-v4), EnvSpec(CrazyClimber-ramNoFrameskip-v0), EnvSpec(JamesbondDeterministic-v4), EnvSpec(CrazyClimber-v0), EnvSpec(CrazyClimber-ramNoFrameskip-v4), EnvSpec(Seaquest-v4), EnvSpec(Enduro-ram-v4), EnvSpec(Pitfall-ramDeterministic-v0), EnvSpec(Enduro-ram-v0), EnvSpec(MsPacman-ramDeterministic-v0), EnvSpec(StarGunnerNoFrameskip-v4), EnvSpec(GravitarDeterministic-v4), EnvSpec(GravitarDeterministic-v0), EnvSpec(Swimmer-v1), EnvSpec(GravitarNoFrameskip-v4), EnvSpec(Alien-ram-v0), EnvSpec(Breakout-ramNoFrameskip-v0), EnvSpec(GravitarNoFrameskip-v0), EnvSpec(AsterixDeterministic-v4), EnvSpec(AsterixDeterministic-v0), EnvSpec(AlienDeterministic-v0), EnvSpec(AlienDeterministic-v4), EnvSpec(RoadRunnerDeterministic-v0), EnvSpec(Breakout-ramNoFrameskip-v4), EnvSpec(RoadRunnerDeterministic-v4), EnvSpec(RepeatCopy-v0), EnvSpec(FrostbiteDeterministic-v0), EnvSpec(TennisNoFrameskip-v4), EnvSpec(Carnival-ramDeterministic-v4), EnvSpec(EnduroNoFrameskip-v4), EnvSpec(KungFuMasterNoFrameskip-v0), EnvSpec(Carnival-ramDeterministic-v0), EnvSpec(EnduroNoFrameskip-v0), EnvSpec(KungFuMasterNoFrameskip-v4), EnvSpec(Tennis-v4), EnvSpec(Asteroids-ramNoFrameskip-v4), EnvSpec(Asteroids-ramNoFrameskip-v0), EnvSpec(TennisNoFrameskip-v0), EnvSpec(FrostbiteDeterministic-v4), EnvSpec(DemonAttackDeterministic-v0), EnvSpec(DemonAttackDeterministic-v4), EnvSpec(UpNDown-v4), EnvSpec(BankHeistNoFrameskip-v4), EnvSpec(DemonAttack-ram-v0), EnvSpec(UpNDown-v0), EnvSpec(BankHeistNoFrameskip-v0), EnvSpec(DemonAttack-ram-v4), EnvSpec(PooyanDeterministic-v4), EnvSpec(Kangaroo-ramDeterministic-v0), EnvSpec(Kangaroo-ramDeterministic-v4), EnvSpec(SemisuperPendulumDecay-v0), EnvSpec(WizardOfWor-ramDeterministic-v4), EnvSpec(RobotankNoFrameskip-v4), EnvSpec(Assault-ram-v4), EnvSpec(TutankhamNoFrameskip-v4), EnvSpec(RobotankNoFrameskip-v0), EnvSpec(WizardOfWor-v0), EnvSpec(Hopper-v1), EnvSpec(WizardOfWor-v4), EnvSpec(Pooyan-ramNoFrameskip-v4), EnvSpec(BattleZone-ramNoFrameskip-v0), EnvSpec(Pooyan-ramNoFrameskip-v0), EnvSpec(Asterix-ramDeterministic-v4), EnvSpec(ElevatorActionNoFrameskip-v0), EnvSpec(FrozenLake-v0), EnvSpec(ElevatorActionNoFrameskip-v4), EnvSpec(TutankhamNoFrameskip-v0), EnvSpec(JamesbondNoFrameskip-v4), EnvSpec(Hero-ramDeterministic-v0), EnvSpec(JamesbondNoFrameskip-v0), EnvSpec(Hero-ramDeterministic-v4), EnvSpec(HumanoidStandup-v1), EnvSpec(KungFuMaster-ramDeterministic-v4), EnvSpec(KungFuMaster-ramDeterministic-v0), EnvSpec(Amidar-v0), EnvSpec(Amidar-v4), EnvSpec(BerzerkNoFrameskip-v4), EnvSpec(BerzerkNoFrameskip-v0), EnvSpec(Amidar-ramNoFrameskip-v0), EnvSpec(Amidar-ramNoFrameskip-v4), EnvSpec(Striker-v0), EnvSpec(Gravitar-ramDeterministic-v0), EnvSpec(Asterix-ramDeterministic-v0), EnvSpec(Gravitar-ramDeterministic-v4), EnvSpec(BattleZone-ram-v4), EnvSpec(BattleZone-ram-v0), EnvSpec(IceHockey-ram-v0), EnvSpec(IceHockey-ram-v4), EnvSpec(BattleZone-ramNoFrameskip-v4), EnvSpec(MountainCar-v0), EnvSpec(BeamRider-ramNoFrameskip-v4), EnvSpec(Qbert-ramDeterministic-v0), EnvSpec(IceHockeyNoFrameskip-v4), EnvSpec(Carnival-v0), EnvSpec(IceHockeyNoFrameskip-v0), EnvSpec(Carnival-v4), EnvSpec(NameThisGameDeterministic-v0), EnvSpec(BeamRider-ramNoFrameskip-v0), EnvSpec(NameThisGameDeterministic-v4), EnvSpec(DoubleDunk-ramNoFrameskip-v0), EnvSpec(Solaris-v4), EnvSpec(IceHockey-ramNoFrameskip-v4), EnvSpec(Frostbite-v4), EnvSpec(DoubleDunk-ramNoFrameskip-v4), EnvSpec(IceHockey-ramNoFrameskip-v0), EnvSpec(MsPacman-v0), EnvSpec(Solaris-ramNoFrameskip-v0), EnvSpec(Gopher-v4), EnvSpec(MsPacman-v4), EnvSpec(Walker2d-v1), EnvSpec(Gopher-v0), EnvSpec(Hero-ram-v0), EnvSpec(Zaxxon-ram-v4), EnvSpec(Hero-ram-v4), EnvSpec(Zaxxon-ram-v0), EnvSpec(DoubleDunkDeterministic-v0), EnvSpec(Solaris-v0), EnvSpec(PooyanNoFrameskip-v4), EnvSpec(Frostbite-v0), EnvSpec(DoubleDunkDeterministic-v4), EnvSpec(Pong-v4), EnvSpec(PooyanNoFrameskip-v0), EnvSpec(Seaquest-ramNoFrameskip-v0), EnvSpec(FreewayDeterministic-v4), EnvSpec(Seaquest-ramNoFrameskip-v4), EnvSpec(FreewayDeterministic-v0), EnvSpec(Zaxxon-ramDeterministic-v4), EnvSpec(Blackjack-v0), EnvSpec(TennisDeterministic-v0), EnvSpec(TennisDeterministic-v4), EnvSpec(Atlantis-v4), EnvSpec(Assault-ram-v0), EnvSpec(Atlantis-v0), EnvSpec(GuessingGame-v0), EnvSpec(Copy-v0), EnvSpec(UpNDownDeterministic-v0), EnvSpec(CrazyClimber-ramDeterministic-v0), EnvSpec(Phoenix-v4), EnvSpec(CrazyClimber-ramDeterministic-v4), EnvSpec(Phoenix-v0), EnvSpec(PitfallDeterministic-v4), EnvSpec(StarGunner-ram-v0), EnvSpec(Asteroids-v0), EnvSpec(CarnivalDeterministic-v0), EnvSpec(StarGunner-ram-v4), EnvSpec(Asteroids-v4), EnvSpec(CarnivalDeterministic-v4), EnvSpec(IceHockeyDeterministic-v4), EnvSpec(OneRoundNondeterministicReward-v0), EnvSpec(IceHockeyDeterministic-v0), EnvSpec(FishingDerby-ramNoFrameskip-v4), EnvSpec(Qbert-ramDeterministic-v4), EnvSpec(Centipede-ram-v4), EnvSpec(PrivateEyeDeterministic-v4), EnvSpec(FishingDerby-ramNoFrameskip-v0), EnvSpec(PrivateEyeDeterministic-v0), EnvSpec(Centipede-ram-v0), EnvSpec(HeroNoFrameskip-v0), EnvSpec(Tennis-ram-v0), EnvSpec(Assault-v0), EnvSpec(Tennis-ram-v4), EnvSpec(Assault-v4), EnvSpec(UpNDownDeterministic-v4), EnvSpec(VideoPinball-ramDeterministic-v4), EnvSpec(HalfCheetah-v1), EnvSpec(PrivateEye-ramNoFrameskip-v4), EnvSpec(WizardOfWor-ramNoFrameskip-v0), EnvSpec(WizardOfWorDeterministic-v4), EnvSpec(GopherNoFrameskip-v0), EnvSpec(WizardOfWorDeterministic-v0), EnvSpec(GopherNoFrameskip-v4), EnvSpec(DoubleDunk-v4), EnvSpec(DoubleDunk-v0), EnvSpec(Tutankham-v0), EnvSpec(LunarLander-v2), EnvSpec(BeamRider-v4), EnvSpec(Tutankham-v4), EnvSpec(BeamRider-v0), EnvSpec(CarnivalNoFrameskip-v0), EnvSpec(BoxingDeterministic-v0), EnvSpec(TimePilot-ram-v0), EnvSpec(CarnivalNoFrameskip-v4), EnvSpec(BoxingDeterministic-v4), EnvSpec(Hex9x9-v0), EnvSpec(Alien-v0), EnvSpec(Berzerk-ram-v4), EnvSpec(Alien-v4), EnvSpec(Berzerk-ram-v0), EnvSpec(Robotank-v4), EnvSpec(AmidarDeterministic-v4), EnvSpec(Robotank-v0), EnvSpec(AmidarDeterministic-v0), EnvSpec(TimePilot-ram-v4), EnvSpec(Gravitar-ram-v0), EnvSpec(Venture-v4), EnvSpec(AssaultDeterministic-v0), EnvSpec(Gravitar-ram-v4), EnvSpec(Venture-v0), EnvSpec(AssaultDeterministic-v4), EnvSpec(Acrobot-v1), EnvSpec(Boxing-v0), EnvSpec(Boxing-v4), EnvSpec(ZaxxonNoFrameskip-v0), EnvSpec(DemonAttack-v0), EnvSpec(ZaxxonNoFrameskip-v4), EnvSpec(DemonAttack-v4), EnvSpec(Freeway-v0), EnvSpec(NameThisGame-v0), EnvSpec(Freeway-v4), EnvSpec(NameThisGame-v4), EnvSpec(RoadRunnerNoFrameskip-v4), EnvSpec(KungFuMasterDeterministic-v0), EnvSpec(RoadRunnerNoFrameskip-v0), EnvSpec(KungFuMasterDeterministic-v4), EnvSpec(Bowling-ram-v4), EnvSpec(Bowling-ram-v0), EnvSpec(Krull-ram-v0), EnvSpec(Seaquest-ramDeterministic-v0), EnvSpec(Krull-ram-v4), EnvSpec(Seaquest-ramDeterministic-v4), EnvSpec(TimePilot-ramNoFrameskip-v4), EnvSpec(TimePilot-ramNoFrameskip-v0), EnvSpec(BowlingNoFrameskip-v0), EnvSpec(BowlingNoFrameskip-v4), EnvSpec(VideoPinballDeterministic-v4), EnvSpec(UpNDown-ramNoFrameskip-v0), EnvSpec(UpNDown-ramNoFrameskip-v4), EnvSpec(Assault-ramNoFrameskip-v0), EnvSpec(Assault-ramNoFrameskip-v4), EnvSpec(CliffWalking-v0), EnvSpec(KungFuMaster-ramNoFrameskip-v4), EnvSpec(BankHeist-ram-v0), EnvSpec(PrivateEye-ramNoFrameskip-v0), EnvSpec(BankHeist-ram-v4), EnvSpec(Venture-ramNoFrameskip-v4), EnvSpec(YarsRevengeNoFrameskip-v0), EnvSpec(YarsRevengeNoFrameskip-v4), EnvSpec(DemonAttack-ramDeterministic-v4), EnvSpec(ElevatorAction-v0), EnvSpec(DemonAttack-ramDeterministic-v0), EnvSpec(ElevatorAction-v4), EnvSpec(FishingDerby-v4), EnvSpec(Carnival-ramNoFrameskip-v0), EnvSpec(FishingDerby-v0), EnvSpec(Carnival-ramNoFrameskip-v4), EnvSpec(MontezumaRevengeDeterministic-v4), EnvSpec(MontezumaRevengeDeterministic-v0), EnvSpec(PitfallNoFrameskip-v0), EnvSpec(DoubleDunkNoFrameskip-v0), EnvSpec(DoubleDunkNoFrameskip-v4), EnvSpec(AsterixNoFrameskip-v0), EnvSpec(AsterixNoFrameskip-v4), EnvSpec(PitfallNoFrameskip-v4), EnvSpec(StarGunner-ramDeterministic-v4), EnvSpec(HeroNoFrameskip-v4), EnvSpec(Amidar-ramDeterministic-v0), EnvSpec(Pong-ram-v4), EnvSpec(Amidar-ramDeterministic-v4), EnvSpec(Pong-ram-v0), EnvSpec(ElevatorAction-ramDeterministic-v0), EnvSpec(JourneyEscapeDeterministic-v0), EnvSpec(Pendulum-v0), EnvSpec(ElevatorAction-ramDeterministic-v4), EnvSpec(JourneyEscapeDeterministic-v4), EnvSpec(Breakout-v4), EnvSpec(Freeway-ramDeterministic-v0), EnvSpec(Breakout-v0), EnvSpec(Freeway-ramDeterministic-v4), EnvSpec(NameThisGame-ramNoFrameskip-v4), EnvSpec(Hero-v4), EnvSpec(Hero-v0), EnvSpec(InvertedPendulum-v1), EnvSpec(BeamRider-ram-v0), EnvSpec(Zaxxon-v4), EnvSpec(BeamRider-ram-v4), EnvSpec(VideoPinball-v0), EnvSpec(VideoPinball-v4), EnvSpec(PrivateEyeNoFrameskip-v0), EnvSpec(AtlantisDeterministic-v4), EnvSpec(PrivateEyeNoFrameskip-v4), EnvSpec(AtlantisDeterministic-v0), EnvSpec(Berzerk-ramDeterministic-v0), EnvSpec(UpNDown-ram-v4), EnvSpec(AirRaid-ramNoFrameskip-v4), EnvSpec(Berzerk-ramDeterministic-v4), EnvSpec(Seaquest-ram-v4), EnvSpec(AirRaid-ramNoFrameskip-v0), EnvSpec(MontezumaRevenge-ram-v0), EnvSpec(Roulette-v0), EnvSpec(MontezumaRevengeNoFrameskip-v0), EnvSpec(Riverraid-v4), EnvSpec(Atlantis-ram-v0), EnvSpec(Alien-ram-v4), EnvSpec(Boxing-ramNoFrameskip-v0), EnvSpec(Boxing-ramNoFrameskip-v4), EnvSpec(SpaceInvaders-v4), EnvSpec(Pitfall-ram-v4), EnvSpec(Skiing-ramDeterministic-v0), EnvSpec(RiverraidDeterministic-v4), EnvSpec(KangarooNoFrameskip-v4), EnvSpec(CrazyClimberNoFrameskip-v0), EnvSpec(AtlantisNoFrameskip-v4), EnvSpec(KangarooNoFrameskip-v0), EnvSpec(CrazyClimberNoFrameskip-v4), EnvSpec(AtlantisNoFrameskip-v0), EnvSpec(SpaceInvaders-v0), EnvSpec(Skiing-ramDeterministic-v4), EnvSpec(StarGunnerNoFrameskip-v0), EnvSpec(Kangaroo-ramNoFrameskip-v4), EnvSpec(RiverraidDeterministic-v0), EnvSpec(Kangaroo-ramNoFrameskip-v0), EnvSpec(SpaceInvadersNoFrameskip-v0), EnvSpec(DuplicatedInput-v0), EnvSpec(Robotank-ramNoFrameskip-v4), EnvSpec(Robotank-ramNoFrameskip-v0), EnvSpec(Zaxxon-ramNoFrameskip-v0), EnvSpec(SpaceInvadersNoFrameskip-v4), EnvSpec(DemonAttack-ramNoFrameskip-v0), EnvSpec(DemonAttack-ramNoFrameskip-v4), EnvSpec(GopherDeterministic-v0), EnvSpec(FishingDerbyDeterministic-v4), EnvSpec(Alien-ramDeterministic-v4), EnvSpec(GopherDeterministic-v4), EnvSpec(FishingDerbyDeterministic-v0), EnvSpec(Alien-ramDeterministic-v0), EnvSpec(VideoPinball-ramDeterministic-v0), EnvSpec(Qbert-ram-v0), EnvSpec(Tutankham-ram-v0), EnvSpec(Pong-ramNoFrameskip-v4), EnvSpec(Qbert-ram-v4), EnvSpec(Pitfall-ram-v0), EnvSpec(Tutankham-ram-v4), EnvSpec(AirRaid-v4), EnvSpec(KangarooDeterministic-v4), EnvSpec(AirRaid-v0), EnvSpec(KangarooDeterministic-v0), EnvSpec(JourneyEscape-ramNoFrameskip-v4), EnvSpec(Krull-v4), EnvSpec(JourneyEscape-ramNoFrameskip-v0), EnvSpec(Krull-v0), EnvSpec(Riverraid-v0), EnvSpec(KrullNoFrameskip-v0), EnvSpec(MontezumaRevengeNoFrameskip-v4), EnvSpec(KrullNoFrameskip-v4), EnvSpec(MontezumaRevenge-ramDeterministic-v0), EnvSpec(MontezumaRevenge-ramDeterministic-v4), EnvSpec(Pusher-v0), EnvSpec(BoxingNoFrameskip-v0), EnvSpec(SkiingDeterministic-v4), EnvSpec(BoxingNoFrameskip-v4), EnvSpec(SkiingDeterministic-v0), EnvSpec(UpNDown-ram-v0), EnvSpec(Kangaroo-v4), EnvSpec(Kangaroo-v0)]\n"
     ]
    }
   ],
   "source": [
    "from gym import envs\n",
    "print(envs.registry.all())"
   ]
  },
  {
   "cell_type": "markdown",
   "metadata": {},
   "source": [
    "To start a standard environment the method make can be used:"
   ]
  },
  {
   "cell_type": "code",
   "execution_count": 3,
   "metadata": {
    "collapsed": false
   },
   "outputs": [
    {
     "name": "stderr",
     "output_type": "stream",
     "text": [
      "[2018-11-20 14:40:53,781] Making new env: MsPacmanDeterministic-v4\n"
     ]
    }
   ],
   "source": [
    "env_id = \"MsPacmanDeterministic-v4\"\n",
    "env = gym.make(env_id)\n",
    "\n",
    "#env = gym.make('CartPole-v0')"
   ]
  },
  {
   "cell_type": "code",
   "execution_count": 4,
   "metadata": {
    "collapsed": false
   },
   "outputs": [
    {
     "name": "stdout",
     "output_type": "stream",
     "text": [
      "['__class__', '__del__', '__delattr__', '__dict__', '__doc__', '__format__', '__getattribute__', '__hash__', '__init__', '__module__', '__new__', '__reduce__', '__reduce_ex__', '__repr__', '__setattr__', '__sizeof__', '__str__', '__subclasshook__', '__weakref__', '_close', '_closed', '_elapsed_seconds', '_elapsed_steps', '_ensure_no_double_wrap', '_env_closer_id', '_episode_started_at', '_max_episode_seconds', '_max_episode_steps', '_owns_render', '_past_limit', '_render', '_reset', '_seed', '_spec', '_step', 'action_space', 'class_name', 'close', 'configure', 'env', 'metadata', 'observation_space', 'render', 'reset', 'reward_range', 'seed', 'spec', 'step', 'unwrapped']\n"
     ]
    }
   ],
   "source": [
    "print dir(env)"
   ]
  },
  {
   "cell_type": "markdown",
   "metadata": {},
   "source": [
    "The method close removes the environment:"
   ]
  },
  {
   "cell_type": "code",
   "execution_count": 5,
   "metadata": {
    "collapsed": false
   },
   "outputs": [],
   "source": [
    "env.close()"
   ]
  },
  {
   "cell_type": "markdown",
   "metadata": {},
   "source": [
    "## 2. Running an example experiment"
   ]
  },
  {
   "cell_type": "markdown",
   "metadata": {},
   "source": [
    "Most important in every reproducible experiment is to set a seed for the random generator:"
   ]
  },
  {
   "cell_type": "code",
   "execution_count": 6,
   "metadata": {
    "collapsed": true
   },
   "outputs": [],
   "source": [
    "initial_seed = 1234"
   ]
  },
  {
   "cell_type": "markdown",
   "metadata": {},
   "source": [
    "Let's run a pacman environment and where we select random actions until the agent dies or clears the level."
   ]
  },
  {
   "cell_type": "code",
   "execution_count": 7,
   "metadata": {
    "collapsed": false,
    "scrolled": false
   },
   "outputs": [
    {
     "name": "stderr",
     "output_type": "stream",
     "text": [
      "[2018-11-20 14:40:57,849] Making new env: MsPacmanDeterministic-v4\n"
     ]
    },
    {
     "name": "stdout",
     "output_type": "stream",
     "text": [
      "action space Discrete(9)\n",
      "actions ['NOOP', 'UP', 'RIGHT', 'LEFT', 'DOWN', 'UPRIGHT', 'UPLEFT', 'DOWNRIGHT', 'DOWNLEFT']\n",
      "observation space Box(210, 160, 3)\n",
      "The agent has died\n",
      "Total reward 150.0\n"
     ]
    }
   ],
   "source": [
    "# reset the environment to the initial state\n",
    "#env_id = \"MsPacman-v0\"\n",
    "env = gym.make(env_id)\n",
    "\n",
    "observation = env.reset()\n",
    "\n",
    "np.random.seed(initial_seed)\n",
    "env.seed(initial_seed)\n",
    "\n",
    "print \"action space\", env.action_space\n",
    "print \"actions\", env.env.get_action_meanings()\n",
    "print \"observation space\", env.observation_space\n",
    "\n",
    "done = False\n",
    "info = None\n",
    "total_reward = 0\n",
    "while (not done) and (info is None or info['ale.lives'] == 3):\n",
    "    # update environment\n",
    "    env.render()\n",
    "    # select random action from the action space\n",
    "    action = env.action_space.sample()\n",
    "    # apply action on the environment\n",
    "    # get back the observation of the destination state, the reward, if terminal state was reached\n",
    "    observation, reward, done, info = env.step(action)\n",
    "    total_reward += reward\n",
    "    \n",
    "if info['ale.lives'] == 2:\n",
    "    print \"The agent has died\"\n",
    "print \"Total reward\", total_reward\n",
    "env.close()"
   ]
  },
  {
   "cell_type": "code",
   "execution_count": 8,
   "metadata": {
    "collapsed": false
   },
   "outputs": [
    {
     "name": "stdout",
     "output_type": "stream",
     "text": [
      "{'render.modes': ['human', 'rgb_array']}\n",
      "['__class__', '__del__', '__delattr__', '__dict__', '__doc__', '__format__', '__getattribute__', '__hash__', '__init__', '__module__', '__new__', '__reduce__', '__reduce_ex__', '__repr__', '__setattr__', '__sizeof__', '__str__', '__subclasshook__', '__weakref__', '_close', '_closed', '_elapsed_seconds', '_elapsed_steps', '_ensure_no_double_wrap', '_env_closer_id', '_episode_started_at', '_max_episode_seconds', '_max_episode_steps', '_owns_render', '_past_limit', '_render', '_reset', '_seed', '_spec', '_step', 'action_space', 'class_name', 'close', 'configure', 'env', 'metadata', 'observation_space', 'render', 'reset', 'reward_range', 'seed', 'spec', 'step', 'unwrapped']\n"
     ]
    }
   ],
   "source": [
    "print env.metadata\n",
    "print dir(env)"
   ]
  },
  {
   "cell_type": "markdown",
   "metadata": {},
   "source": [
    "## 3. Selecting a Reinforcement Learning library on the top of Keras\n",
    "\n",
    "Looking for what libraries can seamlessly integrate with Tensorflow & Keras to provide RL functionalities I have found the following:\n",
    "* RLlab (for OpenAI Gym) - https://github.com/rll/rllab, now renamed Garage - https://github.com/rlworkgroup/garage\n",
    "* TRFL (Truffle) - https://github.com/deepmind/trfl/\n",
    "* Tensorforce - https://github.com/reinforceio/tensorforce\n",
    "* Keras-RL - https://github.com/keras-rl/keras-rl\n",
    "\n",
    "The first 3 are based on Tensorflow, while only Keras-RL is based on Keras and well integrated with OpenAI Gym.  \n",
    "Let's install it:  \n",
    "`python2.7 -m pip install -U --user keras-rl`"
   ]
  },
  {
   "cell_type": "markdown",
   "metadata": {
    "collapsed": true
   },
   "source": [
    "## 4. Implementing an RL agent"
   ]
  },
  {
   "cell_type": "code",
   "execution_count": 228,
   "metadata": {
    "collapsed": false
   },
   "outputs": [],
   "source": [
    "import keras\n",
    "from keras.models import Sequential\n",
    "from keras.layers import Dense, Dropout, Activation, Flatten, Permute\n",
    "from keras.constraints import maxnorm\n",
    "from keras.optimizers import SGD, rmsprop\n",
    "from keras.layers.convolutional import Conv2D, MaxPooling2D\n",
    "from keras.models import clone_model"
   ]
  },
  {
   "cell_type": "code",
   "execution_count": 229,
   "metadata": {
    "collapsed": false
   },
   "outputs": [],
   "source": [
    "from keras.optimizers import Adam\n",
    "from rl.agents.cem import CEMAgent\n",
    "from rl.agents.dqn import DQNAgent\n",
    "from rl.memory import EpisodeParameterMemory, SequentialMemory\n",
    "from rl.policy import LinearAnnealedPolicy, BoltzmannQPolicy, EpsGreedyQPolicy\n",
    "\n",
    "class Agent():\n",
    "    def __init__(self, agent_type, env_id, input_shape, window_length, num_actions, optimizer, metrics, \n",
    "                 preprocessor=None):\n",
    "        self.env_id = env_id\n",
    "        self.preprocessor = preprocessor\n",
    "        self.model = self.__get__model(input_shape, window_length, num_actions)\n",
    "        #memory = EpisodeParameterMemory(limit=1000,\n",
    "        #                                window_length=1)\n",
    "        memory = SequentialMemory(limit=1000000, window_length=window_length)\n",
    "        # limit: how many entries the memory can hold, after which older entries will be replaced with newer ones\n",
    "        # window_length: how many observations are concatenated to form a state\n",
    "        \n",
    "        self.agent = self.__get_decision__maker(self.model, num_actions, memory, agent_type=agent_type)\n",
    "        self.agent.compile(optimizer, metrics)\n",
    "        \n",
    "    def __get_decision__maker(self, model, num_actions, memory, agent_type=\"DQN\"):\n",
    "        if agent_type is \"DQN\":\n",
    "            #dqn = DQNAgent(model=model, nb_actions=nb_actions, memory=memory, nb_steps_warmup=10, enable_dueling_network=True, dueling_type='avg', target_model_update=1e-2, policy=policy)\n",
    "            \n",
    "            policy = LinearAnnealedPolicy(EpsGreedyQPolicy(),\n",
    "                                          attr='eps',\n",
    "                                          value_max=1.,\n",
    "                                          value_min=.1, \n",
    "                                          value_test=.05,\n",
    "                                          nb_steps=1000000)\n",
    "            a = DQNAgent(model=model,\n",
    "                         processor=self.preprocessor,\n",
    "                         nb_actions=num_actions,\n",
    "                         memory=memory,\n",
    "                         nb_steps_warmup=2000,\n",
    "                         policy=policy,\n",
    "                         test_policy=None,\n",
    "                         enable_double_dqn=True,\n",
    "                         enable_dueling_network=False,\n",
    "                         dueling_type='avg')\n",
    "        else:\n",
    "            a = CEMAgent(model=model, \n",
    "                         processor=self.preprocessor,\n",
    "                         nb_actions=num_actions,\n",
    "                         memory=memory,\n",
    "                         batch_size=50,\n",
    "                         nb_steps_warmup=2000,\n",
    "                         train_interval=50,\n",
    "                         elite_frac=0.05)\n",
    "        return a\n",
    "    \n",
    "    def __get__model(self, input_shape, window_length, num_actions):\n",
    "        model = Sequential()\n",
    "        # ValueError: Error when checking : expected conv2d_82_input to have shape\n",
    "        # (None, 80, 88, 1) but got array with shape (1, 1, 88, 80)\n",
    "        # for some reason, keras RL is passing images transposed, i.e., with shape (batch, channel, h, w)\n",
    "        model.add(Permute((2, 3, 1),\n",
    "                          input_shape = (window_length,)+input_shape,\n",
    "                          #data_format = \"channels_last\", # without this the channel is provided first\n",
    "                         ))\n",
    "        model.add(Conv2D(32,\n",
    "                         (3, 3), \n",
    "                         #input_shape=(window_length,)+input_shape,\n",
    "                         #data_format = \"channels_last\", # without this the channel is provided first\n",
    "                         activation='relu'))\n",
    "        model.add(Dropout(0.25))\n",
    "        model.add(MaxPooling2D((2, 2)))\n",
    "        model.add(Conv2D(64, (3, 3), activation='relu'))\n",
    "        model.add(MaxPooling2D((2, 2)))\n",
    "        model.add(Conv2D(128, (3, 3), activation='relu'))\n",
    "        model.add(MaxPooling2D((2, 2)))\n",
    "        #model.add(Flatten(input_shape=(1,) + num_sensors))\n",
    "        model.add(Flatten())\n",
    "        # add intermediate layers\n",
    "        model.add(Dense(512, activation=\"relu\"))\n",
    "        model.add(Dropout(0.35))\n",
    "        model.add(Dense(256, activation=\"relu\"))\n",
    "        model.add(Dropout(0.35))\n",
    "        model.add(Dense(128, activation=\"relu\"))\n",
    "        model.add(Dropout(0.35))\n",
    "        # decision layer: softmax\n",
    "        #model.add(Activation('softmax'))\n",
    "        model.add(Dense(num_actions, activation='softmax'))\n",
    "        return model\n",
    "    \n",
    "    def __print_model_summary__(self):\n",
    "        print self.model.summary()\n",
    "        \n",
    "    def __train__(self, env, steps=100000, visualize=False, verbose=2, overwrite=True):\n",
    "        self.agent.fit(env,\n",
    "                       nb_max_episode_steps=None, # the environment is episodic, undefinite number of steps\n",
    "                       nb_steps=steps, # number of training steps\n",
    "                       visualize=visualize,\n",
    "                       verbose=verbose)\n",
    "        # save the weights\n",
    "        self.agent.save_weights('weights_{}_params.h5f'.format(env_id), overwrite=overwrite)\n",
    "    \n",
    "    def __test__(self, env, episodes=5, visualize=True):\n",
    "        self.agent.test(env, nb_episodes=episodes, visualize=visualize)\n",
    "        \n",
    "    def __replay__(self, env, condition):\n",
    "        done = False\n",
    "        info = None\n",
    "        total_reward = 0\n",
    "        observation = env.reset()\n",
    "        while (not done) and condition:\n",
    "            # update environment\n",
    "            env.render()\n",
    "            # select random action from the action space\n",
    "            action = env.action_space.sample()\n",
    "            # apply action on the environment\n",
    "            # get back the observation of the destination state, the reward, if terminal state was reached\n",
    "            observation, reward, done, info = env.step(action)\n",
    "            total_reward += reward\n",
    "        print \"Total reward\", total_reward\n",
    "        env.close()"
   ]
  },
  {
   "cell_type": "code",
   "execution_count": null,
   "metadata": {
    "collapsed": true
   },
   "outputs": [],
   "source": []
  },
  {
   "cell_type": "code",
   "execution_count": 230,
   "metadata": {
    "collapsed": false
   },
   "outputs": [
    {
     "name": "stderr",
     "output_type": "stream",
     "text": [
      "[2018-11-20 18:03:59,179] Making new env: MsPacmanDeterministic-v4\n"
     ]
    },
    {
     "name": "stdout",
     "output_type": "stream",
     "text": [
      "num_sensors (210, 160, 3)\n",
      "num_actions 9\n"
     ]
    }
   ],
   "source": [
    "env = gym.make(env_id)\n",
    "initial_state = env.reset()\n",
    "state_shape = env.observation_space.shape\n",
    "num_actions = env.action_space.n\n",
    "\n",
    "print \"num_sensors\", state_shape\n",
    "print \"num_actions\", num_actions"
   ]
  },
  {
   "cell_type": "code",
   "execution_count": 231,
   "metadata": {
    "collapsed": false
   },
   "outputs": [],
   "source": [
    "from keras.preprocessing.image import array_to_img, img_to_array, load_img    \n",
    "from rl.core import Processor\n",
    "from PIL import Image\n",
    "\n",
    "class ObservationProcessor(Processor):\n",
    "    def __init__(self, downsamples=1, resize_to=None):\n",
    "        self.downsamples=downsamples\n",
    "        # resize_to is passed in format (w,h)\n",
    "        self.resize_to=resize_to\n",
    "    \n",
    "    def process_observation(self, state_observation):\n",
    "        #print \"state_observation\", type(state_observation), state_observation.shape\n",
    "        # we should expect images of format (height, width, channel), i.e., (210, 160, 3)\n",
    "        assert state_observation.ndim == 3\n",
    "        # crop to the labirinth to remove bottom information\n",
    "        state_observation = state_observation[1:172, :]\n",
    "        # this below downsamples the number of pixels (e.g. half when 2)\n",
    "        state_observation = state_observation[::self.downsamples, ::self.downsamples]\n",
    "        state_observation = state_observation.mean(axis=2)\n",
    "        if self.resize_to is not None:\n",
    "            # convert the numpy array to a easily-resizable image\n",
    "            img_obs = Image.fromarray(state_observation)\n",
    "            # resize the image (w, h)\n",
    "            #https://pillow.readthedocs.io/en/3.1.x/reference/Image.html#PIL.Image.Image.resize\n",
    "            img_obs = img_obs.resize(self.resize_to[:2])\n",
    "            # reconvert to numpy array\n",
    "            state_observation = np.array(img_obs)\n",
    "            state_observation = state_observation.reshape(self.resize_to[0], self.resize_to[1]) #, self.resize_to[2])\n",
    "        state_observation = state_observation.astype('uint8')\n",
    "        #print \"preprocessed state shape\", state_observation.shape\n",
    "        return state_observation\n",
    "        #return state_observation.transpose()\n",
    "\n",
    "    def process_state_batch(self, batch):\n",
    "        #print \"process_state_batch_0\", batch.shape\n",
    "        #return batch.astype('float32') / 255.\n",
    "        # ValueError: Error when checking : expected conv2d_123_input to have shape (None, 80, 88, 1)\n",
    "        # but got array with shape (1, 1, 88, 80)\n",
    "        #batch = np.reshape(batch, (batch.shape[0], batch.shape[2], batch.shape[1], batch.shape[3]))\n",
    "        \"\"\"\n",
    "        tmp_b = []\n",
    "        for i in range(batch.shape[0]):\n",
    "            b_i_t = batch[i,0,:,:].transpose()\n",
    "            #print \"b_i_t.shape\", b_i_t.shape\n",
    "            b_i_t = np.reshape(b_i_t, (b_i_t.shape[0], b_i_t.shape[1], 1))\n",
    "            #print \"b_i_t.shape\", b_i_t.shape\n",
    "            tmp_b.append( b_i_t )\n",
    "        batch = np.array(tmp_b)\n",
    "        \"\"\"\n",
    "        #print \"process_state_batch_1\", batch.shape\n",
    "        batch = batch.astype('float32') / 255.\n",
    "        return batch\n",
    "\n",
    "    def process_reward(self, reward):\n",
    "        return np.clip(reward, -1., 1.)"
   ]
  },
  {
   "cell_type": "code",
   "execution_count": 232,
   "metadata": {
    "collapsed": false
   },
   "outputs": [
    {
     "data": {
      "text/plain": [
       "<matplotlib.image.AxesImage at 0x11e5974d0>"
      ]
     },
     "execution_count": 232,
     "metadata": {},
     "output_type": "execute_result"
    },
    {
     "data": {
      "image/png": "[encoded data removed]",
      "text/plain": [
       "<matplotlib.figure.Figure at 0x11e35f5d0>"
      ]
     },
     "metadata": {},
     "output_type": "display_data"
    }
   ],
   "source": [
    "imshow(initial_state, cmap='gray')"
   ]
  },
  {
   "cell_type": "code",
   "execution_count": 233,
   "metadata": {
    "collapsed": true
   },
   "outputs": [],
   "source": [
    "h=80\n",
    "w=80\n",
    "resized_state_shape = (w,h)\n",
    "\n",
    "op = ObservationProcessor(resize_to=resized_state_shape)"
   ]
  },
  {
   "cell_type": "code",
   "execution_count": 234,
   "metadata": {
    "collapsed": false
   },
   "outputs": [
    {
     "name": "stdout",
     "output_type": "stream",
     "text": [
      "(80, 80)\n"
     ]
    },
    {
     "data": {
      "text/plain": [
       "<matplotlib.image.AxesImage at 0x11e7b3310>"
      ]
     },
     "execution_count": 234,
     "metadata": {},
     "output_type": "execute_result"
    },
    {
     "data": {
      "image/png": "[encoded data removed]",
      "text/plain": [
       "<matplotlib.figure.Figure at 0x11e5b94d0>"
      ]
     },
     "metadata": {},
     "output_type": "display_data"
    }
   ],
   "source": [
    "pp = op.process_observation(initial_state )\n",
    "print pp.shape\n",
    "# N.B. matplotlib.pyplot.imshow() needs a 2D array, or a 3D array with the third dimension being of shape 3 or 4!\n",
    "# let's then remove the channel info for the plot\n",
    "imshow(np.reshape(pp, (pp.shape[0], pp.shape[1])),\n",
    "       cmap='gray')"
   ]
  },
  {
   "cell_type": "code",
   "execution_count": 235,
   "metadata": {
    "collapsed": false
   },
   "outputs": [
    {
     "name": "stdout",
     "output_type": "stream",
     "text": [
      "Agent input shape (80, 80)\n",
      "Number of outputs 9\n",
      "_________________________________________________________________\n",
      "Layer (type)                 Output Shape              Param #   \n",
      "=================================================================\n",
      "permute_2 (Permute)          (None, 80, 80, 4)         0         \n",
      "_________________________________________________________________\n",
      "conv2d_70 (Conv2D)           (None, 78, 78, 32)        1184      \n",
      "_________________________________________________________________\n",
      "dropout_66 (Dropout)         (None, 78, 78, 32)        0         \n",
      "_________________________________________________________________\n",
      "max_pooling2d_52 (MaxPooling (None, 39, 39, 32)        0         \n",
      "_________________________________________________________________\n",
      "conv2d_71 (Conv2D)           (None, 37, 37, 64)        18496     \n",
      "_________________________________________________________________\n",
      "max_pooling2d_53 (MaxPooling (None, 18, 18, 64)        0         \n",
      "_________________________________________________________________\n",
      "conv2d_72 (Conv2D)           (None, 16, 16, 128)       73856     \n",
      "_________________________________________________________________\n",
      "max_pooling2d_54 (MaxPooling (None, 8, 8, 128)         0         \n",
      "_________________________________________________________________\n",
      "flatten_18 (Flatten)         (None, 8192)              0         \n",
      "_________________________________________________________________\n",
      "dense_65 (Dense)             (None, 512)               4194816   \n",
      "_________________________________________________________________\n",
      "dropout_67 (Dropout)         (None, 512)               0         \n",
      "_________________________________________________________________\n",
      "dense_66 (Dense)             (None, 256)               131328    \n",
      "_________________________________________________________________\n",
      "dropout_68 (Dropout)         (None, 256)               0         \n",
      "_________________________________________________________________\n",
      "dense_67 (Dense)             (None, 128)               32896     \n",
      "_________________________________________________________________\n",
      "dropout_69 (Dropout)         (None, 128)               0         \n",
      "_________________________________________________________________\n",
      "dense_68 (Dense)             (None, 9)                 1161      \n",
      "=================================================================\n",
      "Total params: 4,453,737\n",
      "Trainable params: 4,453,737\n",
      "Non-trainable params: 0\n",
      "_________________________________________________________________\n",
      "None\n"
     ]
    }
   ],
   "source": [
    "# https://github.com/keras-rl/keras-rl/issues/113\n",
    "window_length = 4\n",
    "agent_state_shape = resized_state_shape\n",
    "print \"Agent input shape\", agent_state_shape\n",
    "print \"Number of outputs\", num_actions\n",
    "\n",
    "a = Agent(\"DQN\", \n",
    "          env_id,\n",
    "          agent_state_shape, \n",
    "          window_length,\n",
    "          num_actions, \n",
    "          Adam(lr=1e-3), metrics=['mae'],\n",
    "          preprocessor=op)\n",
    "a.__print_model_summary__()"
   ]
  },
  {
   "cell_type": "code",
   "execution_count": 236,
   "metadata": {
    "collapsed": false,
    "scrolled": false
   },
   "outputs": [
    {
     "name": "stdout",
     "output_type": "stream",
     "text": [
      "Training for 5000000 steps ...\n",
      "     433/5000000: episode: 1, duration: 3.285s, episode steps: 433, steps per second: 132, episode reward: 24.000, mean reward: 0.055 [0.000, 1.000], mean action: 3.630 [0.000, 8.000], mean observation: 87.394 [54.000, 155.000], loss: --, mean_absolute_error: --, mean_q: --, mean_eps: --\n",
      "     904/5000000: episode: 2, duration: 2.800s, episode steps: 471, steps per second: 168, episode reward: 28.000, mean reward: 0.059 [0.000, 1.000], mean action: 3.919 [0.000, 8.000], mean observation: 87.416 [54.000, 155.000], loss: --, mean_absolute_error: --, mean_q: --, mean_eps: --\n",
      "    1385/5000000: episode: 3, duration: 2.879s, episode steps: 481, steps per second: 167, episode reward: 26.000, mean reward: 0.054 [0.000, 1.000], mean action: 4.137 [0.000, 8.000], mean observation: 87.411 [54.000, 155.000], loss: --, mean_absolute_error: --, mean_q: --, mean_eps: --\n",
      "    1854/5000000: episode: 4, duration: 3.015s, episode steps: 469, steps per second: 156, episode reward: 20.000, mean reward: 0.043 [0.000, 1.000], mean action: 3.994 [0.000, 8.000], mean observation: 87.472 [54.000, 155.000], loss: --, mean_absolute_error: --, mean_q: --, mean_eps: --\n",
      "    2367/5000000: episode: 5, duration: 176.683s, episode steps: 513, steps per second: 3, episode reward: 22.000, mean reward: 0.043 [0.000, 1.000], mean action: 3.908 [0.000, 8.000], mean observation: 87.505 [54.000, 155.000], loss: 0.024854, mean_absolute_error: 0.105426, mean_q: 0.132856, mean_eps: 0.998035\n",
      "    2818/5000000: episode: 6, duration: 207.560s, episode steps: 451, steps per second: 2, episode reward: 21.000, mean reward: 0.047 [0.000, 1.000], mean action: 4.113 [0.000, 8.000], mean observation: 87.499 [54.000, 155.000], loss: 0.025467, mean_absolute_error: 0.105504, mean_q: 0.133023, mean_eps: 0.997667\n",
      "    3285/5000000: episode: 7, duration: 217.334s, episode steps: 467, steps per second: 2, episode reward: 21.000, mean reward: 0.045 [0.000, 1.000], mean action: 4.028 [0.000, 8.000], mean observation: 87.465 [54.000, 155.000], loss: 0.024656, mean_absolute_error: 0.105423, mean_q: 0.128945, mean_eps: 0.997254\n",
      "    3730/5000000: episode: 8, duration: 201.350s, episode steps: 445, steps per second: 2, episode reward: 26.000, mean reward: 0.058 [0.000, 1.000], mean action: 4.110 [0.000, 8.000], mean observation: 87.445 [54.000, 155.000], loss: 0.026511, mean_absolute_error: 0.105896, mean_q: 0.131351, mean_eps: 0.996844\n",
      "    4263/5000000: episode: 9, duration: 238.271s, episode steps: 533, steps per second: 2, episode reward: 21.000, mean reward: 0.039 [0.000, 1.000], mean action: 4.073 [0.000, 8.000], mean observation: 87.481 [54.000, 155.000], loss: 0.024206, mean_absolute_error: 0.105104, mean_q: 0.124177, mean_eps: 0.996404\n",
      "    4674/5000000: episode: 10, duration: 195.142s, episode steps: 411, steps per second: 2, episode reward: 17.000, mean reward: 0.041 [0.000, 1.000], mean action: 4.182 [0.000, 8.000], mean observation: 87.450 [54.000, 155.000], loss: 0.023695, mean_absolute_error: 0.104788, mean_q: 0.121935, mean_eps: 0.995979\n",
      "    5169/5000000: episode: 11, duration: 224.107s, episode steps: 495, steps per second: 2, episode reward: 15.000, mean reward: 0.030 [0.000, 1.000], mean action: 3.911 [0.000, 8.000], mean observation: 87.486 [54.000, 155.000], loss: 0.023583, mean_absolute_error: 0.104712, mean_q: 0.122055, mean_eps: 0.995571\n",
      "    5706/5000000: episode: 12, duration: 244.513s, episode steps: 537, steps per second: 2, episode reward: 34.000, mean reward: 0.063 [0.000, 1.000], mean action: 3.942 [0.000, 8.000], mean observation: 87.352 [54.000, 155.000], loss: 0.023277, mean_absolute_error: 0.104821, mean_q: 0.123480, mean_eps: 0.995107\n",
      "    6123/5000000: episode: 13, duration: 190.870s, episode steps: 417, steps per second: 2, episode reward: 17.000, mean reward: 0.041 [0.000, 1.000], mean action: 3.808 [0.000, 8.000], mean observation: 87.485 [54.000, 155.000], loss: 0.023837, mean_absolute_error: 0.104941, mean_q: 0.130592, mean_eps: 0.994677\n",
      "    6400/5000000: episode: 14, duration: 121.745s, episode steps: 277, steps per second: 2, episode reward: 12.000, mean reward: 0.043 [0.000, 1.000], mean action: 4.040 [0.000, 8.000], mean observation: 87.531 [54.000, 155.000], loss: 0.023159, mean_absolute_error: 0.104605, mean_q: 0.123759, mean_eps: 0.994365\n",
      "    6941/5000000: episode: 15, duration: 251.388s, episode steps: 541, steps per second: 2, episode reward: 23.000, mean reward: 0.043 [0.000, 1.000], mean action: 3.765 [0.000, 8.000], mean observation: 87.444 [54.000, 155.000], loss: 0.024128, mean_absolute_error: 0.105034, mean_q: 0.125018, mean_eps: 0.993997\n",
      "    7382/5000000: episode: 16, duration: 221.053s, episode steps: 441, steps per second: 2, episode reward: 22.000, mean reward: 0.050 [0.000, 1.000], mean action: 4.102 [0.000, 8.000], mean observation: 87.496 [54.000, 155.000], loss: 0.022623, mean_absolute_error: 0.104933, mean_q: 0.126224, mean_eps: 0.993555\n",
      "    7843/5000000: episode: 17, duration: 211.185s, episode steps: 461, steps per second: 2, episode reward: 23.000, mean reward: 0.050 [0.000, 1.000], mean action: 3.863 [0.000, 8.000], mean observation: 87.455 [54.000, 155.000], loss: 0.022950, mean_absolute_error: 0.104897, mean_q: 0.126633, mean_eps: 0.993149\n",
      "    8380/5000000: episode: 18, duration: 243.354s, episode steps: 537, steps per second: 2, episode reward: 33.000, mean reward: 0.061 [0.000, 1.000], mean action: 3.946 [0.000, 8.000], mean observation: 87.396 [54.000, 155.000], loss: 0.024840, mean_absolute_error: 0.105246, mean_q: 0.125931, mean_eps: 0.992700\n",
      "    8855/5000000: episode: 19, duration: 218.149s, episode steps: 475, steps per second: 2, episode reward: 18.000, mean reward: 0.038 [0.000, 1.000], mean action: 4.000 [0.000, 8.000], mean observation: 87.463 [54.000, 155.000], loss: 0.023106, mean_absolute_error: 0.104940, mean_q: 0.127793, mean_eps: 0.992245\n",
      "    9432/5000000: episode: 20, duration: 288.256s, episode steps: 577, steps per second: 2, episode reward: 33.000, mean reward: 0.057 [0.000, 1.000], mean action: 3.792 [0.000, 8.000], mean observation: 87.323 [54.000, 214.000], loss: 0.023722, mean_absolute_error: 0.104940, mean_q: 0.124306, mean_eps: 0.991771\n",
      "    9827/5000000: episode: 21, duration: 187.889s, episode steps: 395, steps per second: 2, episode reward: 18.000, mean reward: 0.046 [0.000, 1.000], mean action: 4.192 [0.000, 8.000], mean observation: 87.476 [54.000, 155.000], loss: 0.024126, mean_absolute_error: 0.104948, mean_q: 0.124933, mean_eps: 0.991334\n",
      "   10310/5000000: episode: 22, duration: 225.614s, episode steps: 483, steps per second: 2, episode reward: 24.000, mean reward: 0.050 [0.000, 1.000], mean action: 3.791 [0.000, 8.000], mean observation: 87.430 [54.000, 155.000], loss: 0.024189, mean_absolute_error: 0.105752, mean_q: 0.130833, mean_eps: 0.990939\n",
      "   10847/5000000: episode: 23, duration: 244.447s, episode steps: 537, steps per second: 2, episode reward: 29.000, mean reward: 0.054 [0.000, 1.000], mean action: 3.844 [0.000, 8.000], mean observation: 87.304 [54.000, 155.000], loss: 0.024753, mean_absolute_error: 0.106125, mean_q: 0.131303, mean_eps: 0.990480\n",
      "   11358/5000000: episode: 24, duration: 240.000s, episode steps: 511, steps per second: 2, episode reward: 25.000, mean reward: 0.049 [0.000, 1.000], mean action: 3.822 [0.000, 8.000], mean observation: 87.468 [54.000, 155.000], loss: 0.025053, mean_absolute_error: 0.106112, mean_q: 0.124815, mean_eps: 0.990008\n",
      "   11839/5000000: episode: 25, duration: 219.262s, episode steps: 481, steps per second: 2, episode reward: 14.000, mean reward: 0.029 [0.000, 1.000], mean action: 4.048 [0.000, 8.000], mean observation: 87.477 [54.000, 155.000], loss: 0.025516, mean_absolute_error: 0.106187, mean_q: 0.123374, mean_eps: 0.989562\n",
      "   12318/5000000: episode: 26, duration: 215.063s, episode steps: 479, steps per second: 2, episode reward: 18.000, mean reward: 0.038 [0.000, 1.000], mean action: 3.756 [0.000, 8.000], mean observation: 87.519 [54.000, 155.000], loss: 0.024235, mean_absolute_error: 0.105910, mean_q: 0.124744, mean_eps: 0.989130\n",
      "   12829/5000000: episode: 27, duration: 238.489s, episode steps: 511, steps per second: 2, episode reward: 24.000, mean reward: 0.047 [0.000, 1.000], mean action: 4.000 [0.000, 8.000], mean observation: 87.476 [54.000, 155.000], loss: 0.024575, mean_absolute_error: 0.105972, mean_q: 0.124446, mean_eps: 0.988684\n",
      "   13252/5000000: episode: 28, duration: 201.664s, episode steps: 423, steps per second: 2, episode reward: 21.000, mean reward: 0.050 [0.000, 1.000], mean action: 4.064 [0.000, 8.000], mean observation: 87.454 [54.000, 155.000], loss: 0.024626, mean_absolute_error: 0.105991, mean_q: 0.127309, mean_eps: 0.988264\n",
      "   13759/5000000: episode: 29, duration: 245.409s, episode steps: 507, steps per second: 2, episode reward: 30.000, mean reward: 0.059 [0.000, 1.000], mean action: 3.874 [0.000, 8.000], mean observation: 87.347 [54.000, 155.000], loss: 0.023862, mean_absolute_error: 0.105813, mean_q: 0.129154, mean_eps: 0.987845\n",
      "   14150/5000000: episode: 30, duration: 907.698s, episode steps: 391, steps per second: 0, episode reward: 23.000, mean reward: 0.059 [0.000, 1.000], mean action: 3.923 [0.000, 8.000], mean observation: 87.418 [54.000, 155.000], loss: 0.026096, mean_absolute_error: 0.106312, mean_q: 0.129652, mean_eps: 0.987441\n",
      "   14587/5000000: episode: 31, duration: 197.296s, episode steps: 437, steps per second: 2, episode reward: 27.000, mean reward: 0.062 [0.000, 1.000], mean action: 4.140 [0.000, 8.000], mean observation: 87.353 [54.000, 155.000], loss: 0.025401, mean_absolute_error: 0.106154, mean_q: 0.129715, mean_eps: 0.987069\n",
      "   15038/5000000: episode: 32, duration: 215.341s, episode steps: 451, steps per second: 2, episode reward: 31.000, mean reward: 0.069 [0.000, 1.000], mean action: 3.902 [0.000, 8.000], mean observation: 87.437 [54.000, 155.000], loss: 0.025501, mean_absolute_error: 0.106229, mean_q: 0.131181, mean_eps: 0.986669\n",
      "   15487/5000000: episode: 33, duration: 201.426s, episode steps: 449, steps per second: 2, episode reward: 22.000, mean reward: 0.049 [0.000, 1.000], mean action: 3.944 [0.000, 8.000], mean observation: 87.459 [54.000, 155.000], loss: 0.023750, mean_absolute_error: 0.105882, mean_q: 0.132466, mean_eps: 0.986264\n",
      "   16000/5000000: episode: 34, duration: 223.371s, episode steps: 513, steps per second: 2, episode reward: 19.000, mean reward: 0.037 [0.000, 1.000], mean action: 4.117 [0.000, 8.000], mean observation: 87.568 [54.000, 155.000], loss: 0.024527, mean_absolute_error: 0.106042, mean_q: 0.132787, mean_eps: 0.985831\n",
      "   16519/5000000: episode: 35, duration: 246.894s, episode steps: 519, steps per second: 2, episode reward: 18.000, mean reward: 0.035 [0.000, 1.000], mean action: 3.944 [0.000, 8.000], mean observation: 87.497 [54.000, 155.000], loss: 0.025969, mean_absolute_error: 0.106263, mean_q: 0.129841, mean_eps: 0.985367\n",
      "   16978/5000000: episode: 36, duration: 199.471s, episode steps: 459, steps per second: 2, episode reward: 27.000, mean reward: 0.059 [0.000, 1.000], mean action: 3.743 [0.000, 8.000], mean observation: 87.362 [54.000, 155.000], loss: 0.026561, mean_absolute_error: 0.106359, mean_q: 0.129189, mean_eps: 0.984927\n",
      "   17667/5000000: episode: 37, duration: 312.417s, episode steps: 689, steps per second: 2, episode reward: 34.000, mean reward: 0.049 [0.000, 1.000], mean action: 3.927 [0.000, 8.000], mean observation: 87.303 [54.000, 155.000], loss: 0.025272, mean_absolute_error: 0.106105, mean_q: 0.128582, mean_eps: 0.984410\n",
      "   18184/5000000: episode: 38, duration: 233.183s, episode steps: 517, steps per second: 2, episode reward: 22.000, mean reward: 0.043 [0.000, 1.000], mean action: 4.114 [0.000, 8.000], mean observation: 87.468 [54.000, 155.000], loss: 0.026356, mean_absolute_error: 0.106377, mean_q: 0.131330, mean_eps: 0.983868\n",
      "   18619/5000000: episode: 39, duration: 197.875s, episode steps: 435, steps per second: 2, episode reward: 23.000, mean reward: 0.053 [0.000, 1.000], mean action: 4.175 [0.000, 8.000], mean observation: 87.450 [54.000, 155.000], loss: 0.025224, mean_absolute_error: 0.106178, mean_q: 0.132107, mean_eps: 0.983439\n",
      "   19068/5000000: episode: 40, duration: 195.721s, episode steps: 449, steps per second: 2, episode reward: 25.000, mean reward: 0.056 [0.000, 1.000], mean action: 3.886 [0.000, 8.000], mean observation: 87.467 [54.000, 155.000], loss: 0.025437, mean_absolute_error: 0.106267, mean_q: 0.133905, mean_eps: 0.983041\n",
      "   19493/5000000: episode: 41, duration: 192.404s, episode steps: 425, steps per second: 2, episode reward: 19.000, mean reward: 0.045 [0.000, 1.000], mean action: 4.134 [0.000, 8.000], mean observation: 87.494 [54.000, 155.000], loss: 0.025570, mean_absolute_error: 0.106179, mean_q: 0.128404, mean_eps: 0.982648\n",
      "   19882/5000000: episode: 42, duration: 176.268s, episode steps: 389, steps per second: 2, episode reward: 17.000, mean reward: 0.044 [0.000, 1.000], mean action: 3.920 [0.000, 8.000], mean observation: 87.511 [54.000, 155.000], loss: 0.025467, mean_absolute_error: 0.106147, mean_q: 0.127727, mean_eps: 0.982282\n",
      "   20391/5000000: episode: 43, duration: 219.931s, episode steps: 509, steps per second: 2, episode reward: 18.000, mean reward: 0.035 [0.000, 1.000], mean action: 4.061 [0.000, 8.000], mean observation: 87.478 [54.000, 155.000], loss: 0.024869, mean_absolute_error: 0.105813, mean_q: 0.127268, mean_eps: 0.981878\n",
      "   20868/5000000: episode: 44, duration: 270.231s, episode steps: 477, steps per second: 2, episode reward: 23.000, mean reward: 0.048 [0.000, 1.000], mean action: 4.036 [0.000, 8.000], mean observation: 87.427 [54.000, 155.000], loss: 0.024195, mean_absolute_error: 0.105639, mean_q: 0.127294, mean_eps: 0.981434\n",
      "   21335/5000000: episode: 45, duration: 276.079s, episode steps: 467, steps per second: 2, episode reward: 19.000, mean reward: 0.041 [0.000, 1.000], mean action: 3.916 [0.000, 8.000], mean observation: 87.490 [54.000, 155.000], loss: 0.023563, mean_absolute_error: 0.105552, mean_q: 0.129366, mean_eps: 0.981009\n",
      "   21776/5000000: episode: 46, duration: 260.447s, episode steps: 441, steps per second: 2, episode reward: 28.000, mean reward: 0.063 [0.000, 1.000], mean action: 3.905 [0.000, 8.000], mean observation: 87.357 [54.000, 155.000], loss: 0.026031, mean_absolute_error: 0.106074, mean_q: 0.128480, mean_eps: 0.980600\n",
      "   22231/5000000: episode: 47, duration: 269.155s, episode steps: 455, steps per second: 2, episode reward: 18.000, mean reward: 0.040 [0.000, 1.000], mean action: 3.756 [0.000, 8.000], mean observation: 87.511 [54.000, 155.000], loss: 0.023968, mean_absolute_error: 0.105696, mean_q: 0.132541, mean_eps: 0.980197\n",
      "   22724/5000000: episode: 48, duration: 291.399s, episode steps: 493, steps per second: 2, episode reward: 22.000, mean reward: 0.045 [0.000, 1.000], mean action: 4.089 [0.000, 8.000], mean observation: 87.459 [54.000, 155.000], loss: 0.024081, mean_absolute_error: 0.105835, mean_q: 0.137272, mean_eps: 0.979771\n",
      "   23271/5000000: episode: 49, duration: 256.339s, episode steps: 547, steps per second: 2, episode reward: 20.000, mean reward: 0.037 [0.000, 1.000], mean action: 3.867 [0.000, 8.000], mean observation: 87.499 [54.000, 155.000], loss: 0.024504, mean_absolute_error: 0.105893, mean_q: 0.136903, mean_eps: 0.979303\n",
      "   24142/5000000: episode: 50, duration: 433.512s, episode steps: 871, steps per second: 2, episode reward: 48.000, mean reward: 0.055 [0.000, 1.000], mean action: 3.890 [0.000, 8.000], mean observation: 87.263 [54.000, 155.000], loss: 0.025583, mean_absolute_error: 0.106133, mean_q: 0.135671, mean_eps: 0.978665\n",
      "   24573/5000000: episode: 51, duration: 185.638s, episode steps: 431, steps per second: 2, episode reward: 26.000, mean reward: 0.060 [0.000, 1.000], mean action: 3.993 [0.000, 8.000], mean observation: 87.419 [54.000, 155.000], loss: 0.025483, mean_absolute_error: 0.106120, mean_q: 0.135350, mean_eps: 0.978079\n",
      "   25120/5000000: episode: 52, duration: 235.308s, episode steps: 547, steps per second: 2, episode reward: 33.000, mean reward: 0.060 [0.000, 1.000], mean action: 4.188 [0.000, 8.000], mean observation: 87.266 [54.000, 155.000], loss: 0.024924, mean_absolute_error: 0.105990, mean_q: 0.135460, mean_eps: 0.977639\n",
      "   25593/5000000: episode: 53, duration: 277.324s, episode steps: 473, steps per second: 2, episode reward: 18.000, mean reward: 0.038 [0.000, 1.000], mean action: 4.051 [0.000, 8.000], mean observation: 87.504 [54.000, 155.000], loss: 0.024657, mean_absolute_error: 0.105919, mean_q: 0.135094, mean_eps: 0.977180\n",
      "   25848/5000000: episode: 54, duration: 150.995s, episode steps: 255, steps per second: 2, episode reward: 11.000, mean reward: 0.043 [0.000, 1.000], mean action: 4.090 [0.000, 8.000], mean observation: 87.541 [54.000, 155.000], loss: 0.025168, mean_absolute_error: 0.106036, mean_q: 0.134779, mean_eps: 0.976852\n",
      "   26363/5000000: episode: 55, duration: 304.828s, episode steps: 515, steps per second: 2, episode reward: 24.000, mean reward: 0.047 [0.000, 1.000], mean action: 3.895 [0.000, 8.000], mean observation: 87.480 [54.000, 155.000], loss: 0.024481, mean_absolute_error: 0.105910, mean_q: 0.137311, mean_eps: 0.976506\n",
      "   26868/5000000: episode: 56, duration: 298.229s, episode steps: 505, steps per second: 2, episode reward: 19.000, mean reward: 0.038 [0.000, 1.000], mean action: 3.923 [0.000, 8.000], mean observation: 87.552 [54.000, 155.000], loss: 0.026276, mean_absolute_error: 0.106241, mean_q: 0.134930, mean_eps: 0.976047\n",
      "   27357/5000000: episode: 57, duration: 288.189s, episode steps: 489, steps per second: 2, episode reward: 25.000, mean reward: 0.051 [0.000, 1.000], mean action: 4.025 [0.000, 8.000], mean observation: 87.436 [54.000, 155.000], loss: 0.023930, mean_absolute_error: 0.105717, mean_q: 0.132936, mean_eps: 0.975599\n",
      "   27862/5000000: episode: 58, duration: 268.225s, episode steps: 505, steps per second: 2, episode reward: 27.000, mean reward: 0.053 [0.000, 1.000], mean action: 3.958 [0.000, 8.000], mean observation: 87.511 [54.000, 155.000], loss: 0.025797, mean_absolute_error: 0.106126, mean_q: 0.135237, mean_eps: 0.975152\n",
      "   28333/5000000: episode: 59, duration: 201.077s, episode steps: 471, steps per second: 2, episode reward: 23.000, mean reward: 0.049 [0.000, 1.000], mean action: 3.945 [0.000, 8.000], mean observation: 87.471 [54.000, 155.000], loss: 0.027170, mean_absolute_error: 0.106510, mean_q: 0.136997, mean_eps: 0.974713\n",
      "   28810/5000000: episode: 60, duration: 208.913s, episode steps: 477, steps per second: 2, episode reward: 27.000, mean reward: 0.057 [0.000, 1.000], mean action: 3.935 [0.000, 8.000], mean observation: 87.441 [54.000, 155.000], loss: 0.024274, mean_absolute_error: 0.105815, mean_q: 0.135459, mean_eps: 0.974286\n",
      "   29213/5000000: episode: 61, duration: 172.080s, episode steps: 403, steps per second: 2, episode reward: 17.000, mean reward: 0.042 [0.000, 1.000], mean action: 3.831 [0.000, 8.000], mean observation: 87.485 [54.000, 155.000], loss: 0.023644, mean_absolute_error: 0.105625, mean_q: 0.133179, mean_eps: 0.973890\n",
      "   29634/5000000: episode: 62, duration: 210.706s, episode steps: 421, steps per second: 2, episode reward: 14.000, mean reward: 0.033 [0.000, 1.000], mean action: 4.010 [0.000, 8.000], mean observation: 87.510 [54.000, 155.000], loss: 0.025789, mean_absolute_error: 0.106053, mean_q: 0.130070, mean_eps: 0.973519\n",
      "   30023/5000000: episode: 63, duration: 230.213s, episode steps: 389, steps per second: 2, episode reward: 14.000, mean reward: 0.036 [0.000, 1.000], mean action: 3.787 [0.000, 8.000], mean observation: 87.535 [54.000, 155.000], loss: 0.025263, mean_absolute_error: 0.105917, mean_q: 0.130225, mean_eps: 0.973155\n",
      "   30520/5000000: episode: 64, duration: 292.789s, episode steps: 497, steps per second: 2, episode reward: 22.000, mean reward: 0.044 [0.000, 1.000], mean action: 4.197 [0.000, 8.000], mean observation: 87.457 [54.000, 155.000], loss: 0.024543, mean_absolute_error: 0.106072, mean_q: 0.131378, mean_eps: 0.972756\n",
      "   31431/5000000: episode: 65, duration: 535.262s, episode steps: 911, steps per second: 2, episode reward: 55.000, mean reward: 0.060 [0.000, 1.000], mean action: 3.980 [0.000, 8.000], mean observation: 87.138 [54.000, 214.000], loss: 0.024775, mean_absolute_error: 0.106145, mean_q: 0.132383, mean_eps: 0.972123\n",
      "   31934/5000000: episode: 66, duration: 295.559s, episode steps: 503, steps per second: 2, episode reward: 20.000, mean reward: 0.040 [0.000, 1.000], mean action: 3.857 [0.000, 8.000], mean observation: 87.498 [54.000, 155.000], loss: 0.024837, mean_absolute_error: 0.106142, mean_q: 0.131599, mean_eps: 0.971486\n",
      "   32445/5000000: episode: 67, duration: 229.119s, episode steps: 511, steps per second: 2, episode reward: 19.000, mean reward: 0.037 [0.000, 1.000], mean action: 3.867 [0.000, 8.000], mean observation: 87.542 [54.000, 155.000], loss: 0.024865, mean_absolute_error: 0.106148, mean_q: 0.131191, mean_eps: 0.971030\n",
      "   32958/5000000: episode: 68, duration: 218.320s, episode steps: 513, steps per second: 2, episode reward: 26.000, mean reward: 0.051 [0.000, 1.000], mean action: 4.234 [0.000, 8.000], mean observation: 87.414 [54.000, 155.000], loss: 0.024734, mean_absolute_error: 0.106114, mean_q: 0.131739, mean_eps: 0.970569\n",
      "   33377/5000000: episode: 69, duration: 178.338s, episode steps: 419, steps per second: 2, episode reward: 17.000, mean reward: 0.041 [0.000, 1.000], mean action: 3.916 [0.000, 8.000], mean observation: 87.508 [54.000, 155.000], loss: 0.025757, mean_absolute_error: 0.106381, mean_q: 0.132450, mean_eps: 0.970150\n",
      "   33802/5000000: episode: 70, duration: 181.160s, episode steps: 425, steps per second: 2, episode reward: 18.000, mean reward: 0.042 [0.000, 1.000], mean action: 4.035 [0.000, 8.000], mean observation: 87.456 [54.000, 155.000], loss: 0.024646, mean_absolute_error: 0.106112, mean_q: 0.129444, mean_eps: 0.969770\n",
      "   34283/5000000: episode: 71, duration: 205.271s, episode steps: 481, steps per second: 2, episode reward: 21.000, mean reward: 0.044 [0.000, 1.000], mean action: 3.956 [0.000, 8.000], mean observation: 87.481 [54.000, 155.000], loss: 0.025548, mean_absolute_error: 0.106282, mean_q: 0.131215, mean_eps: 0.969362\n",
      "   34838/5000000: episode: 72, duration: 236.951s, episode steps: 555, steps per second: 2, episode reward: 31.000, mean reward: 0.056 [0.000, 1.000], mean action: 4.079 [0.000, 8.000], mean observation: 87.395 [54.000, 155.000], loss: 0.025363, mean_absolute_error: 0.106273, mean_q: 0.133060, mean_eps: 0.968896\n",
      "   35263/5000000: episode: 73, duration: 182.340s, episode steps: 425, steps per second: 2, episode reward: 22.000, mean reward: 0.052 [0.000, 1.000], mean action: 3.706 [0.000, 8.000], mean observation: 87.519 [54.000, 155.000], loss: 0.024602, mean_absolute_error: 0.106067, mean_q: 0.131423, mean_eps: 0.968455\n",
      "   35754/5000000: episode: 74, duration: 212.342s, episode steps: 491, steps per second: 2, episode reward: 24.000, mean reward: 0.049 [0.000, 1.000], mean action: 3.857 [0.000, 8.000], mean observation: 87.473 [54.000, 155.000], loss: 0.026894, mean_absolute_error: 0.106580, mean_q: 0.131746, mean_eps: 0.968043\n",
      "   36219/5000000: episode: 75, duration: 200.371s, episode steps: 465, steps per second: 2, episode reward: 30.000, mean reward: 0.065 [0.000, 1.000], mean action: 3.772 [0.000, 8.000], mean observation: 87.370 [54.000, 155.000], loss: 0.024219, mean_absolute_error: 0.105986, mean_q: 0.131966, mean_eps: 0.967613\n",
      "   36760/5000000: episode: 76, duration: 233.631s, episode steps: 541, steps per second: 2, episode reward: 25.000, mean reward: 0.046 [0.000, 1.000], mean action: 3.980 [0.000, 8.000], mean observation: 87.457 [54.000, 155.000], loss: 0.025698, mean_absolute_error: 0.106312, mean_q: 0.129356, mean_eps: 0.967160\n",
      "   37185/5000000: episode: 77, duration: 183.855s, episode steps: 425, steps per second: 2, episode reward: 17.000, mean reward: 0.040 [0.000, 1.000], mean action: 4.301 [0.000, 8.000], mean observation: 87.586 [54.000, 155.000], loss: 0.024384, mean_absolute_error: 0.106052, mean_q: 0.132688, mean_eps: 0.966725\n",
      "   37690/5000000: episode: 78, duration: 220.120s, episode steps: 505, steps per second: 2, episode reward: 30.000, mean reward: 0.059 [0.000, 1.000], mean action: 4.156 [0.000, 8.000], mean observation: 87.410 [54.000, 155.000], loss: 0.025677, mean_absolute_error: 0.106392, mean_q: 0.135278, mean_eps: 0.966307\n",
      "   38223/5000000: episode: 79, duration: 230.778s, episode steps: 533, steps per second: 2, episode reward: 28.000, mean reward: 0.053 [0.000, 1.000], mean action: 4.090 [0.000, 8.000], mean observation: 87.375 [54.000, 155.000], loss: 0.026375, mean_absolute_error: 0.106589, mean_q: 0.136940, mean_eps: 0.965840\n",
      "   38700/5000000: episode: 80, duration: 206.252s, episode steps: 477, steps per second: 2, episode reward: 18.000, mean reward: 0.038 [0.000, 1.000], mean action: 3.933 [0.000, 8.000], mean observation: 87.511 [54.000, 155.000], loss: 0.025388, mean_absolute_error: 0.106333, mean_q: 0.135271, mean_eps: 0.965385\n",
      "   39205/5000000: episode: 81, duration: 217.871s, episode steps: 505, steps per second: 2, episode reward: 26.000, mean reward: 0.051 [0.000, 1.000], mean action: 3.996 [0.000, 8.000], mean observation: 87.392 [54.000, 155.000], loss: 0.024100, mean_absolute_error: 0.106034, mean_q: 0.133436, mean_eps: 0.964943\n",
      "   39594/5000000: episode: 82, duration: 168.465s, episode steps: 389, steps per second: 2, episode reward: 30.000, mean reward: 0.077 [0.000, 1.000], mean action: 3.933 [0.000, 8.000], mean observation: 87.357 [54.000, 155.000], loss: 0.024946, mean_absolute_error: 0.106157, mean_q: 0.131931, mean_eps: 0.964541\n",
      "   40121/5000000: episode: 83, duration: 227.130s, episode steps: 527, steps per second: 2, episode reward: 26.000, mean reward: 0.049 [0.000, 1.000], mean action: 4.008 [0.000, 8.000], mean observation: 87.367 [54.000, 155.000], loss: 0.025365, mean_absolute_error: 0.106356, mean_q: 0.134165, mean_eps: 0.964129\n",
      "   40638/5000000: episode: 84, duration: 223.696s, episode steps: 517, steps per second: 2, episode reward: 20.000, mean reward: 0.039 [0.000, 1.000], mean action: 4.116 [0.000, 8.000], mean observation: 87.519 [54.000, 155.000], loss: 0.024573, mean_absolute_error: 0.106382, mean_q: 0.133805, mean_eps: 0.963659\n",
      "   41207/5000000: episode: 85, duration: 245.107s, episode steps: 569, steps per second: 2, episode reward: 31.000, mean reward: 0.054 [0.000, 1.000], mean action: 4.049 [0.000, 8.000], mean observation: 87.306 [54.000, 155.000], loss: 0.026694, mean_absolute_error: 0.106824, mean_q: 0.134928, mean_eps: 0.963170\n",
      "   41770/5000000: episode: 86, duration: 242.850s, episode steps: 563, steps per second: 2, episode reward: 37.000, mean reward: 0.066 [0.000, 1.000], mean action: 3.925 [0.000, 8.000], mean observation: 87.263 [54.000, 155.000], loss: 0.025519, mean_absolute_error: 0.106574, mean_q: 0.132283, mean_eps: 0.962661\n",
      "   42407/5000000: episode: 87, duration: 274.753s, episode steps: 637, steps per second: 2, episode reward: 36.000, mean reward: 0.057 [0.000, 1.000], mean action: 3.915 [0.000, 8.000], mean observation: 87.281 [54.000, 214.000], loss: 0.025959, mean_absolute_error: 0.106680, mean_q: 0.129167, mean_eps: 0.962121\n",
      "   42938/5000000: episode: 88, duration: 233.434s, episode steps: 531, steps per second: 2, episode reward: 25.000, mean reward: 0.047 [0.000, 1.000], mean action: 4.121 [0.000, 8.000], mean observation: 87.484 [54.000, 155.000], loss: 0.023968, mean_absolute_error: 0.106098, mean_q: 0.129569, mean_eps: 0.961595\n",
      "   43359/5000000: episode: 89, duration: 181.239s, episode steps: 421, steps per second: 2, episode reward: 13.000, mean reward: 0.031 [0.000, 1.000], mean action: 3.976 [0.000, 8.000], mean observation: 87.564 [54.000, 155.000], loss: 0.025223, mean_absolute_error: 0.106545, mean_q: 0.134590, mean_eps: 0.961167\n",
      "   43862/5000000: episode: 90, duration: 218.314s, episode steps: 503, steps per second: 2, episode reward: 29.000, mean reward: 0.058 [0.000, 1.000], mean action: 4.072 [0.000, 8.000], mean observation: 87.296 [54.000, 155.000], loss: 0.024450, mean_absolute_error: 0.106380, mean_q: 0.133883, mean_eps: 0.960751\n",
      "   44407/5000000: episode: 91, duration: 235.259s, episode steps: 545, steps per second: 2, episode reward: 25.000, mean reward: 0.046 [0.000, 1.000], mean action: 3.906 [0.000, 8.000], mean observation: 87.429 [54.000, 155.000], loss: 0.025761, mean_absolute_error: 0.106613, mean_q: 0.132817, mean_eps: 0.960279\n",
      "   44976/5000000: episode: 92, duration: 246.026s, episode steps: 569, steps per second: 2, episode reward: 30.000, mean reward: 0.053 [0.000, 1.000], mean action: 3.886 [0.000, 8.000], mean observation: 87.339 [54.000, 155.000], loss: 0.025374, mean_absolute_error: 0.106552, mean_q: 0.133106, mean_eps: 0.959778\n",
      "   45457/5000000: episode: 93, duration: 209.743s, episode steps: 481, steps per second: 2, episode reward: 22.000, mean reward: 0.046 [0.000, 1.000], mean action: 3.904 [0.000, 8.000], mean observation: 87.505 [54.000, 155.000], loss: 0.025587, mean_absolute_error: 0.106600, mean_q: 0.134783, mean_eps: 0.959306\n",
      "   45950/5000000: episode: 94, duration: 213.609s, episode steps: 493, steps per second: 2, episode reward: 25.000, mean reward: 0.051 [0.000, 1.000], mean action: 4.118 [0.000, 8.000], mean observation: 87.411 [54.000, 155.000], loss: 0.025508, mean_absolute_error: 0.106541, mean_q: 0.130136, mean_eps: 0.958867\n",
      "   46499/5000000: episode: 95, duration: 236.541s, episode steps: 549, steps per second: 2, episode reward: 24.000, mean reward: 0.044 [0.000, 1.000], mean action: 4.029 [0.000, 8.000], mean observation: 87.448 [54.000, 155.000], loss: 0.024695, mean_absolute_error: 0.106435, mean_q: 0.134047, mean_eps: 0.958398\n",
      "   46986/5000000: episode: 96, duration: 211.017s, episode steps: 487, steps per second: 2, episode reward: 24.000, mean reward: 0.049 [0.000, 1.000], mean action: 3.871 [0.000, 8.000], mean observation: 87.506 [54.000, 155.000], loss: 0.025187, mean_absolute_error: 0.106518, mean_q: 0.134862, mean_eps: 0.957932\n",
      "   47531/5000000: episode: 97, duration: 236.240s, episode steps: 545, steps per second: 2, episode reward: 22.000, mean reward: 0.040 [0.000, 1.000], mean action: 3.982 [0.000, 8.000], mean observation: 87.422 [54.000, 155.000], loss: 0.026452, mean_absolute_error: 0.106783, mean_q: 0.135129, mean_eps: 0.957468\n",
      "   47962/5000000: episode: 98, duration: 186.618s, episode steps: 431, steps per second: 2, episode reward: 21.000, mean reward: 0.049 [0.000, 1.000], mean action: 3.905 [0.000, 8.000], mean observation: 87.371 [54.000, 155.000], loss: 0.024832, mean_absolute_error: 0.106432, mean_q: 0.135139, mean_eps: 0.957029\n",
      "   48269/5000000: episode: 99, duration: 132.613s, episode steps: 307, steps per second: 2, episode reward: 8.000, mean reward: 0.026 [0.000, 1.000], mean action: 4.033 [0.000, 8.000], mean observation: 87.583 [54.000, 155.000], loss: 0.025738, mean_absolute_error: 0.106620, mean_q: 0.134533, mean_eps: 0.956697\n",
      "   48656/5000000: episode: 100, duration: 167.843s, episode steps: 387, steps per second: 2, episode reward: 21.000, mean reward: 0.054 [0.000, 1.000], mean action: 3.992 [0.000, 8.000], mean observation: 87.418 [54.000, 155.000], loss: 0.024856, mean_absolute_error: 0.106424, mean_q: 0.132970, mean_eps: 0.956384\n",
      "   49231/5000000: episode: 101, duration: 248.137s, episode steps: 575, steps per second: 2, episode reward: 26.000, mean reward: 0.045 [0.000, 1.000], mean action: 3.908 [0.000, 8.000], mean observation: 87.389 [54.000, 155.000], loss: 0.025206, mean_absolute_error: 0.106482, mean_q: 0.131416, mean_eps: 0.955951\n",
      "   49790/5000000: episode: 102, duration: 240.665s, episode steps: 559, steps per second: 2, episode reward: 32.000, mean reward: 0.057 [0.000, 1.000], mean action: 3.970 [0.000, 8.000], mean observation: 87.292 [54.000, 155.000], loss: 0.025479, mean_absolute_error: 0.106529, mean_q: 0.134687, mean_eps: 0.955441\n",
      "   50357/5000000: episode: 103, duration: 244.177s, episode steps: 567, steps per second: 2, episode reward: 28.000, mean reward: 0.049 [0.000, 1.000], mean action: 4.030 [0.000, 8.000], mean observation: 87.435 [54.000, 155.000], loss: 0.026231, mean_absolute_error: 0.106676, mean_q: 0.134401, mean_eps: 0.954934\n",
      "   50628/5000000: episode: 104, duration: 116.827s, episode steps: 271, steps per second: 2, episode reward: 9.000, mean reward: 0.033 [0.000, 1.000], mean action: 3.771 [0.000, 8.000], mean observation: 87.574 [54.000, 155.000], loss: 0.024688, mean_absolute_error: 0.106349, mean_q: 0.133152, mean_eps: 0.954557\n",
      "   51177/5000000: episode: 105, duration: 236.915s, episode steps: 549, steps per second: 2, episode reward: 33.000, mean reward: 0.060 [0.000, 1.000], mean action: 4.078 [0.000, 8.000], mean observation: 87.268 [54.000, 155.000], loss: 0.026557, mean_absolute_error: 0.106737, mean_q: 0.129727, mean_eps: 0.954188\n",
      "   51640/5000000: episode: 106, duration: 226.522s, episode steps: 463, steps per second: 2, episode reward: 25.000, mean reward: 0.054 [0.000, 1.000], mean action: 4.147 [0.000, 8.000], mean observation: 87.427 [54.000, 155.000], loss: 0.026538, mean_absolute_error: 0.106764, mean_q: 0.128099, mean_eps: 0.953733\n",
      "   52129/5000000: episode: 107, duration: 239.290s, episode steps: 489, steps per second: 2, episode reward: 25.000, mean reward: 0.051 [0.000, 1.000], mean action: 3.988 [0.000, 8.000], mean observation: 87.420 [54.000, 155.000], loss: 0.025051, mean_absolute_error: 0.106422, mean_q: 0.131294, mean_eps: 0.953304\n",
      "   52628/5000000: episode: 108, duration: 231.594s, episode steps: 499, steps per second: 2, episode reward: 26.000, mean reward: 0.052 [0.000, 1.000], mean action: 3.918 [0.000, 8.000], mean observation: 87.386 [54.000, 155.000], loss: 0.025669, mean_absolute_error: 0.106551, mean_q: 0.130492, mean_eps: 0.952860\n",
      "   53097/5000000: episode: 109, duration: 216.203s, episode steps: 469, steps per second: 2, episode reward: 21.000, mean reward: 0.045 [0.000, 1.000], mean action: 4.168 [0.000, 8.000], mean observation: 87.498 [54.000, 155.000], loss: 0.025646, mean_absolute_error: 0.106535, mean_q: 0.132371, mean_eps: 0.952424\n",
      "   53842/5000000: episode: 110, duration: 349.355s, episode steps: 745, steps per second: 2, episode reward: 46.000, mean reward: 0.062 [0.000, 1.000], mean action: 4.165 [0.000, 8.000], mean observation: 87.075 [54.000, 214.000], loss: 0.026194, mean_absolute_error: 0.106669, mean_q: 0.132578, mean_eps: 0.951878\n",
      "   54295/5000000: episode: 111, duration: 210.711s, episode steps: 453, steps per second: 2, episode reward: 15.000, mean reward: 0.033 [0.000, 1.000], mean action: 3.974 [0.000, 8.000], mean observation: 87.532 [54.000, 155.000], loss: 0.025517, mean_absolute_error: 0.106511, mean_q: 0.132944, mean_eps: 0.951339\n",
      "   54948/5000000: episode: 112, duration: 303.265s, episode steps: 653, steps per second: 2, episode reward: 27.000, mean reward: 0.041 [0.000, 1.000], mean action: 4.015 [0.000, 8.000], mean observation: 87.498 [54.000, 155.000], loss: 0.025438, mean_absolute_error: 0.106542, mean_q: 0.135191, mean_eps: 0.950841\n",
      "   55433/5000000: episode: 113, duration: 228.160s, episode steps: 485, steps per second: 2, episode reward: 26.000, mean reward: 0.054 [0.000, 1.000], mean action: 4.054 [0.000, 8.000], mean observation: 87.341 [54.000, 155.000], loss: 0.024736, mean_absolute_error: 0.106313, mean_q: 0.131572, mean_eps: 0.950329\n",
      "   55906/5000000: episode: 114, duration: 225.366s, episode steps: 473, steps per second: 2, episode reward: 24.000, mean reward: 0.051 [0.000, 1.000], mean action: 3.996 [0.000, 8.000], mean observation: 87.474 [54.000, 155.000], loss: 0.025365, mean_absolute_error: 0.106315, mean_q: 0.130959, mean_eps: 0.949898\n",
      "   56471/5000000: episode: 115, duration: 260.402s, episode steps: 565, steps per second: 2, episode reward: 18.000, mean reward: 0.032 [0.000, 1.000], mean action: 4.048 [0.000, 8.000], mean observation: 87.498 [54.000, 155.000], loss: 0.024800, mean_absolute_error: 0.106341, mean_q: 0.133528, mean_eps: 0.949431\n",
      "   57100/5000000: episode: 116, duration: 288.290s, episode steps: 629, steps per second: 2, episode reward: 36.000, mean reward: 0.057 [0.000, 1.000], mean action: 4.135 [0.000, 8.000], mean observation: 87.295 [54.000, 214.000], loss: 0.024096, mean_absolute_error: 0.106212, mean_q: 0.128904, mean_eps: 0.948893\n",
      "   57569/5000000: episode: 117, duration: 210.645s, episode steps: 469, steps per second: 2, episode reward: 14.000, mean reward: 0.030 [0.000, 1.000], mean action: 3.885 [0.000, 8.000], mean observation: 87.592 [54.000, 155.000], loss: 0.026317, mean_absolute_error: 0.106710, mean_q: 0.130587, mean_eps: 0.948399\n",
      "   58076/5000000: episode: 118, duration: 237.049s, episode steps: 507, steps per second: 2, episode reward: 17.000, mean reward: 0.034 [0.000, 1.000], mean action: 4.018 [0.000, 8.000], mean observation: 87.521 [54.000, 155.000], loss: 0.026168, mean_absolute_error: 0.106652, mean_q: 0.134120, mean_eps: 0.947960\n",
      "   58575/5000000: episode: 119, duration: 235.085s, episode steps: 499, steps per second: 2, episode reward: 31.000, mean reward: 0.062 [0.000, 1.000], mean action: 3.954 [0.000, 8.000], mean observation: 87.381 [54.000, 155.000], loss: 0.025722, mean_absolute_error: 0.106589, mean_q: 0.130451, mean_eps: 0.947507\n",
      "   59216/5000000: episode: 120, duration: 317.366s, episode steps: 641, steps per second: 2, episode reward: 36.000, mean reward: 0.056 [0.000, 1.000], mean action: 3.933 [0.000, 8.000], mean observation: 87.268 [54.000, 155.000], loss: 0.025324, mean_absolute_error: 0.106478, mean_q: 0.133814, mean_eps: 0.946995\n",
      "   59535/5000000: episode: 121, duration: 158.378s, episode steps: 319, steps per second: 2, episode reward: 14.000, mean reward: 0.044 [0.000, 1.000], mean action: 4.166 [0.000, 8.000], mean observation: 87.531 [54.000, 155.000], loss: 0.024675, mean_absolute_error: 0.106329, mean_q: 0.132877, mean_eps: 0.946562\n",
      "   59976/5000000: episode: 122, duration: 230.319s, episode steps: 441, steps per second: 2, episode reward: 21.000, mean reward: 0.048 [0.000, 1.000], mean action: 4.054 [0.000, 8.000], mean observation: 87.513 [54.000, 155.000], loss: 0.026125, mean_absolute_error: 0.106677, mean_q: 0.130776, mean_eps: 0.946221\n",
      "   60485/5000000: episode: 123, duration: 261.222s, episode steps: 509, steps per second: 2, episode reward: 29.000, mean reward: 0.057 [0.000, 1.000], mean action: 4.153 [0.000, 8.000], mean observation: 87.276 [54.000, 155.000], loss: 0.024719, mean_absolute_error: 0.105724, mean_q: 0.126046, mean_eps: 0.945793\n",
      "   61100/5000000: episode: 124, duration: 318.678s, episode steps: 615, steps per second: 2, episode reward: 29.000, mean reward: 0.047 [0.000, 1.000], mean action: 3.831 [0.000, 8.000], mean observation: 87.362 [54.000, 155.000], loss: 0.024324, mean_absolute_error: 0.105612, mean_q: 0.126727, mean_eps: 0.945287\n",
      "   61675/5000000: episode: 125, duration: 303.182s, episode steps: 575, steps per second: 2, episode reward: 27.000, mean reward: 0.047 [0.000, 1.000], mean action: 4.003 [0.000, 8.000], mean observation: 87.453 [54.000, 155.000], loss: 0.024209, mean_absolute_error: 0.105675, mean_q: 0.128435, mean_eps: 0.944752\n",
      "   62198/5000000: episode: 126, duration: 270.246s, episode steps: 523, steps per second: 2, episode reward: 24.000, mean reward: 0.046 [0.000, 1.000], mean action: 4.044 [0.000, 8.000], mean observation: 87.521 [54.000, 155.000], loss: 0.024922, mean_absolute_error: 0.105900, mean_q: 0.130478, mean_eps: 0.944258\n",
      "   62623/5000000: episode: 127, duration: 198.060s, episode steps: 425, steps per second: 2, episode reward: 20.000, mean reward: 0.047 [0.000, 1.000], mean action: 4.122 [0.000, 8.000], mean observation: 87.462 [54.000, 155.000], loss: 0.025210, mean_absolute_error: 0.105985, mean_q: 0.130754, mean_eps: 0.943831\n",
      "   63066/5000000: episode: 128, duration: 209.621s, episode steps: 443, steps per second: 2, episode reward: 25.000, mean reward: 0.056 [0.000, 1.000], mean action: 4.097 [0.000, 8.000], mean observation: 87.447 [54.000, 155.000], loss: 0.023746, mean_absolute_error: 0.105641, mean_q: 0.130909, mean_eps: 0.943440\n",
      "   63605/5000000: episode: 129, duration: 262.810s, episode steps: 539, steps per second: 2, episode reward: 26.000, mean reward: 0.048 [0.000, 1.000], mean action: 3.955 [0.000, 8.000], mean observation: 87.453 [54.000, 155.000], loss: 0.024430, mean_absolute_error: 0.105754, mean_q: 0.128605, mean_eps: 0.942998\n",
      "   64086/5000000: episode: 130, duration: 219.735s, episode steps: 481, steps per second: 2, episode reward: 26.000, mean reward: 0.054 [0.000, 1.000], mean action: 3.992 [0.000, 8.000], mean observation: 87.401 [54.000, 155.000], loss: 0.025565, mean_absolute_error: 0.105981, mean_q: 0.130182, mean_eps: 0.942540\n",
      "   64751/5000000: episode: 131, duration: 303.110s, episode steps: 665, steps per second: 2, episode reward: 27.000, mean reward: 0.041 [0.000, 1.000], mean action: 4.113 [0.000, 8.000], mean observation: 87.367 [54.000, 214.000], loss: 0.024191, mean_absolute_error: 0.105781, mean_q: 0.131738, mean_eps: 0.942024\n",
      "   65236/5000000: episode: 132, duration: 235.662s, episode steps: 485, steps per second: 2, episode reward: 28.000, mean reward: 0.058 [0.000, 1.000], mean action: 4.194 [0.000, 8.000], mean observation: 87.386 [54.000, 155.000], loss: 0.026611, mean_absolute_error: 0.106294, mean_q: 0.131576, mean_eps: 0.941506\n",
      "   65579/5000000: episode: 133, duration: 171.820s, episode steps: 343, steps per second: 2, episode reward: 15.000, mean reward: 0.044 [0.000, 1.000], mean action: 4.181 [0.000, 8.000], mean observation: 87.539 [54.000, 155.000], loss: 0.024772, mean_absolute_error: 0.105917, mean_q: 0.134158, mean_eps: 0.941134\n",
      "   66082/5000000: episode: 134, duration: 241.700s, episode steps: 503, steps per second: 2, episode reward: 27.000, mean reward: 0.054 [0.000, 1.000], mean action: 3.855 [0.000, 8.000], mean observation: 87.324 [54.000, 155.000], loss: 0.025385, mean_absolute_error: 0.106032, mean_q: 0.133734, mean_eps: 0.940753\n",
      "   66541/5000000: episode: 135, duration: 219.899s, episode steps: 459, steps per second: 2, episode reward: 23.000, mean reward: 0.050 [0.000, 1.000], mean action: 3.911 [0.000, 8.000], mean observation: 87.374 [54.000, 155.000], loss: 0.024390, mean_absolute_error: 0.105781, mean_q: 0.129970, mean_eps: 0.940320\n",
      "   67076/5000000: episode: 136, duration: 251.375s, episode steps: 535, steps per second: 2, episode reward: 24.000, mean reward: 0.045 [0.000, 1.000], mean action: 3.757 [0.000, 8.000], mean observation: 87.367 [54.000, 155.000], loss: 0.024922, mean_absolute_error: 0.105580, mean_q: 0.127217, mean_eps: 0.939873\n",
      "   67583/5000000: episode: 137, duration: 239.620s, episode steps: 507, steps per second: 2, episode reward: 24.000, mean reward: 0.047 [0.000, 1.000], mean action: 3.819 [0.000, 8.000], mean observation: 87.395 [54.000, 155.000], loss: 0.025279, mean_absolute_error: 0.105838, mean_q: 0.127572, mean_eps: 0.939404\n",
      "   68002/5000000: episode: 138, duration: 191.351s, episode steps: 419, steps per second: 2, episode reward: 25.000, mean reward: 0.060 [0.000, 1.000], mean action: 3.967 [0.000, 8.000], mean observation: 87.417 [54.000, 155.000], loss: 0.024412, mean_absolute_error: 0.105688, mean_q: 0.129115, mean_eps: 0.938987\n",
      "   68475/5000000: episode: 139, duration: 214.403s, episode steps: 473, steps per second: 2, episode reward: 25.000, mean reward: 0.053 [0.000, 1.000], mean action: 3.772 [0.000, 8.000], mean observation: 87.408 [54.000, 155.000], loss: 0.024793, mean_absolute_error: 0.105660, mean_q: 0.127092, mean_eps: 0.938586\n",
      "   68962/5000000: episode: 140, duration: 233.265s, episode steps: 487, steps per second: 2, episode reward: 22.000, mean reward: 0.045 [0.000, 1.000], mean action: 4.127 [0.000, 8.000], mean observation: 87.483 [54.000, 155.000], loss: 0.025731, mean_absolute_error: 0.105960, mean_q: 0.126056, mean_eps: 0.938154\n",
      "   69625/5000000: episode: 141, duration: 317.292s, episode steps: 663, steps per second: 2, episode reward: 42.000, mean reward: 0.063 [0.000, 1.000], mean action: 4.109 [0.000, 8.000], mean observation: 87.344 [54.000, 214.000], loss: 0.026589, mean_absolute_error: 0.106090, mean_q: 0.126928, mean_eps: 0.937636\n",
      "   70124/5000000: episode: 142, duration: 228.576s, episode steps: 499, steps per second: 2, episode reward: 21.000, mean reward: 0.042 [0.000, 1.000], mean action: 3.940 [0.000, 8.000], mean observation: 87.494 [54.000, 155.000], loss: 0.024139, mean_absolute_error: 0.105672, mean_q: 0.128715, mean_eps: 0.937113\n",
      "   70571/5000000: episode: 143, duration: 198.909s, episode steps: 447, steps per second: 2, episode reward: 18.000, mean reward: 0.040 [0.000, 1.000], mean action: 3.957 [0.000, 8.000], mean observation: 87.494 [54.000, 155.000], loss: 0.025077, mean_absolute_error: 0.105926, mean_q: 0.129896, mean_eps: 0.936688\n",
      "   71108/5000000: episode: 144, duration: 255.951s, episode steps: 537, steps per second: 2, episode reward: 31.000, mean reward: 0.058 [0.000, 1.000], mean action: 4.125 [0.000, 8.000], mean observation: 87.430 [54.000, 155.000], loss: 0.025616, mean_absolute_error: 0.106003, mean_q: 0.130146, mean_eps: 0.936245\n",
      "   72087/5000000: episode: 145, duration: 434.986s, episode steps: 979, steps per second: 2, episode reward: 34.000, mean reward: 0.035 [0.000, 1.000], mean action: 3.989 [0.000, 8.000], mean observation: 87.278 [54.000, 214.000], loss: 0.025646, mean_absolute_error: 0.106109, mean_q: 0.133662, mean_eps: 0.935563\n",
      "   72622/5000000: episode: 146, duration: 235.871s, episode steps: 535, steps per second: 2, episode reward: 29.000, mean reward: 0.054 [0.000, 1.000], mean action: 3.935 [0.000, 8.000], mean observation: 87.317 [54.000, 155.000], loss: 0.025845, mean_absolute_error: 0.106132, mean_q: 0.132995, mean_eps: 0.934881\n",
      "   73097/5000000: episode: 147, duration: 281.987s, episode steps: 475, steps per second: 2, episode reward: 27.000, mean reward: 0.057 [0.000, 1.000], mean action: 3.947 [0.000, 8.000], mean observation: 87.386 [54.000, 155.000], loss: 0.025586, mean_absolute_error: 0.105973, mean_q: 0.130001, mean_eps: 0.934427\n",
      "   73502/5000000: episode: 148, duration: 239.296s, episode steps: 405, steps per second: 2, episode reward: 10.000, mean reward: 0.025 [0.000, 1.000], mean action: 3.867 [0.000, 8.000], mean observation: 87.595 [54.000, 155.000], loss: 0.024142, mean_absolute_error: 0.105567, mean_q: 0.129888, mean_eps: 0.934031\n",
      "   73965/5000000: episode: 149, duration: 273.418s, episode steps: 463, steps per second: 2, episode reward: 20.000, mean reward: 0.043 [0.000, 1.000], mean action: 4.123 [0.000, 8.000], mean observation: 87.523 [54.000, 155.000], loss: 0.026455, mean_absolute_error: 0.106229, mean_q: 0.132681, mean_eps: 0.933640\n",
      "   74440/5000000: episode: 150, duration: 279.263s, episode steps: 475, steps per second: 2, episode reward: 27.000, mean reward: 0.057 [0.000, 1.000], mean action: 4.086 [0.000, 8.000], mean observation: 87.427 [54.000, 155.000], loss: 0.023872, mean_absolute_error: 0.105746, mean_q: 0.134422, mean_eps: 0.933218\n",
      "   74837/5000000: episode: 151, duration: 234.333s, episode steps: 397, steps per second: 2, episode reward: 25.000, mean reward: 0.063 [0.000, 1.000], mean action: 3.945 [0.000, 8.000], mean observation: 87.414 [54.000, 155.000], loss: 0.025248, mean_absolute_error: 0.106010, mean_q: 0.133765, mean_eps: 0.932826\n",
      "   75360/5000000: episode: 152, duration: 272.508s, episode steps: 523, steps per second: 2, episode reward: 24.000, mean reward: 0.046 [0.000, 1.000], mean action: 4.094 [0.000, 8.000], mean observation: 87.373 [54.000, 155.000], loss: 0.025421, mean_absolute_error: 0.106034, mean_q: 0.133348, mean_eps: 0.932412\n",
      "   75893/5000000: episode: 153, duration: 227.391s, episode steps: 533, steps per second: 2, episode reward: 22.000, mean reward: 0.041 [0.000, 1.000], mean action: 3.977 [0.000, 8.000], mean observation: 87.525 [54.000, 155.000], loss: 0.024883, mean_absolute_error: 0.105944, mean_q: 0.134291, mean_eps: 0.931937\n",
      "   76398/5000000: episode: 154, duration: 215.918s, episode steps: 505, steps per second: 2, episode reward: 17.000, mean reward: 0.034 [0.000, 1.000], mean action: 3.909 [0.000, 8.000], mean observation: 87.526 [54.000, 155.000], loss: 0.025470, mean_absolute_error: 0.106106, mean_q: 0.136178, mean_eps: 0.931469\n",
      "   76895/5000000: episode: 155, duration: 212.465s, episode steps: 497, steps per second: 2, episode reward: 30.000, mean reward: 0.060 [0.000, 1.000], mean action: 3.932 [0.000, 8.000], mean observation: 87.392 [54.000, 155.000], loss: 0.024301, mean_absolute_error: 0.105883, mean_q: 0.136787, mean_eps: 0.931019\n",
      "   77328/5000000: episode: 156, duration: 184.784s, episode steps: 433, steps per second: 2, episode reward: 17.000, mean reward: 0.039 [0.000, 1.000], mean action: 4.076 [0.000, 8.000], mean observation: 87.560 [54.000, 155.000], loss: 0.025635, mean_absolute_error: 0.106156, mean_q: 0.137085, mean_eps: 0.930600\n",
      "   77879/5000000: episode: 157, duration: 235.447s, episode steps: 551, steps per second: 2, episode reward: 35.000, mean reward: 0.064 [0.000, 1.000], mean action: 4.098 [0.000, 8.000], mean observation: 87.382 [54.000, 155.000], loss: 0.024884, mean_absolute_error: 0.105931, mean_q: 0.133741, mean_eps: 0.930157\n",
      "   78352/5000000: episode: 158, duration: 202.042s, episode steps: 473, steps per second: 2, episode reward: 17.000, mean reward: 0.036 [0.000, 1.000], mean action: 3.992 [0.000, 8.000], mean observation: 87.519 [54.000, 155.000], loss: 0.025266, mean_absolute_error: 0.105906, mean_q: 0.129531, mean_eps: 0.929697\n",
      "   78833/5000000: episode: 159, duration: 205.640s, episode steps: 481, steps per second: 2, episode reward: 18.000, mean reward: 0.037 [0.000, 1.000], mean action: 3.902 [0.000, 8.000], mean observation: 87.505 [54.000, 155.000], loss: 0.023840, mean_absolute_error: 0.105609, mean_q: 0.130267, mean_eps: 0.929267\n",
      "   79220/5000000: episode: 160, duration: 165.412s, episode steps: 387, steps per second: 2, episode reward: 19.000, mean reward: 0.049 [0.000, 1.000], mean action: 3.837 [0.000, 8.000], mean observation: 87.519 [54.000, 155.000], loss: 0.024988, mean_absolute_error: 0.105882, mean_q: 0.130468, mean_eps: 0.928877\n",
      "   79827/5000000: episode: 161, duration: 259.561s, episode steps: 607, steps per second: 2, episode reward: 29.000, mean reward: 0.048 [0.000, 1.000], mean action: 4.115 [0.000, 8.000], mean observation: 87.370 [54.000, 155.000], loss: 0.024448, mean_absolute_error: 0.105855, mean_q: 0.134952, mean_eps: 0.928429\n",
      "   80346/5000000: episode: 162, duration: 221.895s, episode steps: 519, steps per second: 2, episode reward: 29.000, mean reward: 0.056 [0.000, 1.000], mean action: 4.091 [0.000, 8.000], mean observation: 87.409 [54.000, 155.000], loss: 0.025630, mean_absolute_error: 0.106450, mean_q: 0.135760, mean_eps: 0.927923\n",
      "   80859/5000000: episode: 163, duration: 219.474s, episode steps: 513, steps per second: 2, episode reward: 22.000, mean reward: 0.043 [0.000, 1.000], mean action: 3.897 [0.000, 8.000], mean observation: 87.390 [54.000, 155.000], loss: 0.025795, mean_absolute_error: 0.106699, mean_q: 0.137747, mean_eps: 0.927458\n",
      "   81242/5000000: episode: 164, duration: 164.306s, episode steps: 383, steps per second: 2, episode reward: 18.000, mean reward: 0.047 [0.000, 1.000], mean action: 3.990 [0.000, 8.000], mean observation: 87.507 [54.000, 155.000], loss: 0.025123, mean_absolute_error: 0.106603, mean_q: 0.141476, mean_eps: 0.927055\n",
      "   81779/5000000: episode: 165, duration: 229.962s, episode steps: 537, steps per second: 2, episode reward: 22.000, mean reward: 0.041 [0.000, 1.000], mean action: 4.041 [0.000, 8.000], mean observation: 87.499 [54.000, 155.000], loss: 0.024594, mean_absolute_error: 0.106433, mean_q: 0.136871, mean_eps: 0.926641\n",
      "   82268/5000000: episode: 166, duration: 209.490s, episode steps: 489, steps per second: 2, episode reward: 19.000, mean reward: 0.039 [0.000, 1.000], mean action: 4.063 [0.000, 8.000], mean observation: 87.505 [54.000, 155.000], loss: 0.023893, mean_absolute_error: 0.106226, mean_q: 0.135073, mean_eps: 0.926179\n",
      "   82673/5000000: episode: 167, duration: 173.230s, episode steps: 405, steps per second: 2, episode reward: 18.000, mean reward: 0.044 [0.000, 1.000], mean action: 4.114 [0.000, 8.000], mean observation: 87.497 [54.000, 155.000], loss: 0.025664, mean_absolute_error: 0.106641, mean_q: 0.135117, mean_eps: 0.925777\n",
      "   83196/5000000: episode: 168, duration: 224.097s, episode steps: 523, steps per second: 2, episode reward: 21.000, mean reward: 0.040 [0.000, 1.000], mean action: 3.841 [0.000, 8.000], mean observation: 87.422 [54.000, 155.000], loss: 0.026152, mean_absolute_error: 0.106800, mean_q: 0.137918, mean_eps: 0.925359\n",
      "   83669/5000000: episode: 169, duration: 202.596s, episode steps: 473, steps per second: 2, episode reward: 17.000, mean reward: 0.036 [0.000, 1.000], mean action: 4.203 [0.000, 8.000], mean observation: 87.492 [54.000, 155.000], loss: 0.025595, mean_absolute_error: 0.106649, mean_q: 0.137405, mean_eps: 0.924911\n",
      "   84170/5000000: episode: 170, duration: 214.892s, episode steps: 501, steps per second: 2, episode reward: 19.000, mean reward: 0.038 [0.000, 1.000], mean action: 3.836 [0.000, 8.000], mean observation: 87.515 [54.000, 155.000], loss: 0.024863, mean_absolute_error: 0.106492, mean_q: 0.137144, mean_eps: 0.924473\n",
      "   84733/5000000: episode: 171, duration: 246.051s, episode steps: 563, steps per second: 2, episode reward: 32.000, mean reward: 0.057 [0.000, 1.000], mean action: 3.897 [0.000, 8.000], mean observation: 87.368 [54.000, 155.000], loss: 0.025193, mean_absolute_error: 0.106570, mean_q: 0.137445, mean_eps: 0.923994\n",
      "   85208/5000000: episode: 172, duration: 208.354s, episode steps: 475, steps per second: 2, episode reward: 20.000, mean reward: 0.042 [0.000, 1.000], mean action: 4.040 [0.000, 8.000], mean observation: 87.475 [54.000, 155.000], loss: 0.025582, mean_absolute_error: 0.106679, mean_q: 0.138561, mean_eps: 0.923527\n",
      "   85597/5000000: episode: 173, duration: 168.394s, episode steps: 389, steps per second: 2, episode reward: 19.000, mean reward: 0.049 [0.000, 1.000], mean action: 4.015 [0.000, 8.000], mean observation: 87.504 [54.000, 155.000], loss: 0.026227, mean_absolute_error: 0.106821, mean_q: 0.139106, mean_eps: 0.923138\n",
      "   86102/5000000: episode: 174, duration: 218.420s, episode steps: 505, steps per second: 2, episode reward: 32.000, mean reward: 0.063 [0.000, 1.000], mean action: 4.004 [0.000, 8.000], mean observation: 87.379 [54.000, 155.000], loss: 0.026518, mean_absolute_error: 0.106787, mean_q: 0.134886, mean_eps: 0.922736\n",
      "   86687/5000000: episode: 175, duration: 252.997s, episode steps: 585, steps per second: 2, episode reward: 24.000, mean reward: 0.041 [0.000, 1.000], mean action: 3.933 [0.000, 8.000], mean observation: 87.428 [54.000, 155.000], loss: 0.026313, mean_absolute_error: 0.106783, mean_q: 0.134689, mean_eps: 0.922245\n",
      "   87418/5000000: episode: 176, duration: 315.906s, episode steps: 731, steps per second: 2, episode reward: 36.000, mean reward: 0.049 [0.000, 1.000], mean action: 4.051 [0.000, 8.000], mean observation: 87.244 [54.000, 214.000], loss: 0.025343, mean_absolute_error: 0.106607, mean_q: 0.136790, mean_eps: 0.921653\n",
      "   87907/5000000: episode: 177, duration: 211.586s, episode steps: 489, steps per second: 2, episode reward: 25.000, mean reward: 0.051 [0.000, 1.000], mean action: 3.855 [0.000, 8.000], mean observation: 87.484 [54.000, 155.000], loss: 0.023281, mean_absolute_error: 0.106166, mean_q: 0.136816, mean_eps: 0.921104\n",
      "   88388/5000000: episode: 178, duration: 207.528s, episode steps: 481, steps per second: 2, episode reward: 22.000, mean reward: 0.046 [0.000, 1.000], mean action: 4.135 [0.000, 8.000], mean observation: 87.501 [54.000, 155.000], loss: 0.025829, mean_absolute_error: 0.106649, mean_q: 0.135961, mean_eps: 0.920668\n",
      "   88923/5000000: episode: 179, duration: 230.758s, episode steps: 535, steps per second: 2, episode reward: 35.000, mean reward: 0.065 [0.000, 1.000], mean action: 3.918 [0.000, 8.000], mean observation: 87.260 [54.000, 155.000], loss: 0.023338, mean_absolute_error: 0.106150, mean_q: 0.135778, mean_eps: 0.920210\n",
      "   89348/5000000: episode: 180, duration: 185.018s, episode steps: 425, steps per second: 2, episode reward: 19.000, mean reward: 0.045 [0.000, 1.000], mean action: 4.235 [0.000, 8.000], mean observation: 87.525 [54.000, 155.000], loss: 0.025921, mean_absolute_error: 0.106681, mean_q: 0.136463, mean_eps: 0.919779\n",
      "   89797/5000000: episode: 181, duration: 198.206s, episode steps: 449, steps per second: 2, episode reward: 16.000, mean reward: 0.036 [0.000, 1.000], mean action: 3.915 [0.000, 8.000], mean observation: 87.540 [54.000, 155.000], loss: 0.024933, mean_absolute_error: 0.106468, mean_q: 0.133528, mean_eps: 0.919385\n",
      "   90294/5000000: episode: 182, duration: 218.965s, episode steps: 497, steps per second: 2, episode reward: 22.000, mean reward: 0.044 [0.000, 1.000], mean action: 3.915 [0.000, 8.000], mean observation: 87.479 [54.000, 155.000], loss: 0.025707, mean_absolute_error: 0.106527, mean_q: 0.134479, mean_eps: 0.918960\n",
      "   90699/5000000: episode: 183, duration: 174.845s, episode steps: 405, steps per second: 2, episode reward: 19.000, mean reward: 0.047 [0.000, 1.000], mean action: 3.980 [0.000, 8.000], mean observation: 87.472 [54.000, 155.000], loss: 0.025858, mean_absolute_error: 0.106519, mean_q: 0.135539, mean_eps: 0.918554\n",
      "   91118/5000000: episode: 184, duration: 180.444s, episode steps: 419, steps per second: 2, episode reward: 22.000, mean reward: 0.053 [0.000, 1.000], mean action: 3.866 [0.000, 8.000], mean observation: 87.412 [54.000, 155.000], loss: 0.025255, mean_absolute_error: 0.106382, mean_q: 0.136446, mean_eps: 0.918183\n",
      "   91609/5000000: episode: 185, duration: 211.435s, episode steps: 491, steps per second: 2, episode reward: 26.000, mean reward: 0.053 [0.000, 1.000], mean action: 3.902 [0.000, 8.000], mean observation: 87.440 [54.000, 155.000], loss: 0.024738, mean_absolute_error: 0.106255, mean_q: 0.135108, mean_eps: 0.917773\n",
      "   92280/5000000: episode: 186, duration: 291.842s, episode steps: 671, steps per second: 2, episode reward: 42.000, mean reward: 0.063 [0.000, 1.000], mean action: 4.007 [0.000, 8.000], mean observation: 87.185 [54.000, 214.000], loss: 0.025613, mean_absolute_error: 0.106420, mean_q: 0.135289, mean_eps: 0.917250\n",
      "   92607/5000000: episode: 187, duration: 143.503s, episode steps: 327, steps per second: 2, episode reward: 16.000, mean reward: 0.049 [0.000, 1.000], mean action: 3.771 [0.000, 8.000], mean observation: 87.508 [54.000, 155.000], loss: 0.025361, mean_absolute_error: 0.106413, mean_q: 0.134632, mean_eps: 0.916801\n",
      "   93052/5000000: episode: 188, duration: 195.477s, episode steps: 445, steps per second: 2, episode reward: 23.000, mean reward: 0.052 [0.000, 1.000], mean action: 3.881 [0.000, 8.000], mean observation: 87.482 [54.000, 155.000], loss: 0.024536, mean_absolute_error: 0.106163, mean_q: 0.131864, mean_eps: 0.916454\n",
      "   93515/5000000: episode: 189, duration: 203.156s, episode steps: 463, steps per second: 2, episode reward: 23.000, mean reward: 0.050 [0.000, 1.000], mean action: 4.015 [0.000, 8.000], mean observation: 87.435 [54.000, 155.000], loss: 0.025760, mean_absolute_error: 0.106491, mean_q: 0.135657, mean_eps: 0.916045\n",
      "   93990/5000000: episode: 190, duration: 208.702s, episode steps: 475, steps per second: 2, episode reward: 19.000, mean reward: 0.040 [0.000, 1.000], mean action: 4.137 [0.000, 8.000], mean observation: 87.476 [54.000, 155.000], loss: 0.025697, mean_absolute_error: 0.106517, mean_q: 0.138539, mean_eps: 0.915623\n",
      "   94597/5000000: episode: 191, duration: 265.214s, episode steps: 607, steps per second: 2, episode reward: 37.000, mean reward: 0.061 [0.000, 1.000], mean action: 3.992 [0.000, 8.000], mean observation: 87.260 [54.000, 214.000], loss: 0.025106, mean_absolute_error: 0.106327, mean_q: 0.136847, mean_eps: 0.915136\n",
      "   95072/5000000: episode: 192, duration: 209.598s, episode steps: 475, steps per second: 2, episode reward: 26.000, mean reward: 0.055 [0.000, 1.000], mean action: 3.819 [0.000, 8.000], mean observation: 87.497 [54.000, 155.000], loss: 0.026375, mean_absolute_error: 0.106687, mean_q: 0.139832, mean_eps: 0.914649\n",
      "   95647/5000000: episode: 193, duration: 250.960s, episode steps: 575, steps per second: 2, episode reward: 27.000, mean reward: 0.047 [0.000, 1.000], mean action: 3.911 [0.000, 8.000], mean observation: 87.462 [54.000, 155.000], loss: 0.026939, mean_absolute_error: 0.106830, mean_q: 0.140552, mean_eps: 0.914177\n",
      "   96122/5000000: episode: 194, duration: 208.705s, episode steps: 475, steps per second: 2, episode reward: 33.000, mean reward: 0.069 [0.000, 1.000], mean action: 3.882 [0.000, 8.000], mean observation: 87.349 [54.000, 155.000], loss: 0.025260, mean_absolute_error: 0.106514, mean_q: 0.141497, mean_eps: 0.913704\n",
      "   96621/5000000: episode: 195, duration: 218.580s, episode steps: 499, steps per second: 2, episode reward: 19.000, mean reward: 0.038 [0.000, 1.000], mean action: 3.776 [0.000, 8.000], mean observation: 87.535 [54.000, 155.000], loss: 0.025552, mean_absolute_error: 0.106530, mean_q: 0.140999, mean_eps: 0.913266\n",
      "   97064/5000000: episode: 196, duration: 195.089s, episode steps: 443, steps per second: 2, episode reward: 17.000, mean reward: 0.038 [0.000, 1.000], mean action: 3.892 [0.000, 8.000], mean observation: 87.536 [54.000, 155.000], loss: 0.024901, mean_absolute_error: 0.106484, mean_q: 0.143158, mean_eps: 0.912842\n",
      "   97587/5000000: episode: 197, duration: 230.339s, episode steps: 523, steps per second: 2, episode reward: 22.000, mean reward: 0.042 [0.000, 1.000], mean action: 4.141 [0.000, 8.000], mean observation: 87.420 [54.000, 155.000], loss: 0.026155, mean_absolute_error: 0.106744, mean_q: 0.142373, mean_eps: 0.912408\n",
      "   98032/5000000: episode: 198, duration: 14822.297s, episode steps: 445, steps per second: 0, episode reward: 20.000, mean reward: 0.045 [0.000, 1.000], mean action: 3.903 [0.000, 8.000], mean observation: 87.469 [54.000, 155.000], loss: 0.024820, mean_absolute_error: 0.106399, mean_q: 0.142527, mean_eps: 0.911972\n",
      "   98845/5000000: episode: 199, duration: 403.047s, episode steps: 813, steps per second: 2, episode reward: 52.000, mean reward: 0.064 [0.000, 1.000], mean action: 3.978 [0.000, 8.000], mean observation: 86.916 [54.000, 214.000], loss: 0.024917, mean_absolute_error: 0.106393, mean_q: 0.141214, mean_eps: 0.911406\n",
      "done, took 60477.570 seconds\n"
     ]
    }
   ],
   "source": [
    "np.random.seed(initial_seed)\n",
    "env.seed(initial_seed)\n",
    "a.__train__(env, steps=5000000)"
   ]
  },
  {
   "cell_type": "code",
   "execution_count": 237,
   "metadata": {
    "collapsed": false
   },
   "outputs": [
    {
     "name": "stdout",
     "output_type": "stream",
     "text": [
      "Testing for 5 episodes ...\n",
      "Episode 1: reward: 7.000, steps: 443\n",
      "Episode 2: reward: 7.000, steps: 443\n",
      "Episode 3: reward: 7.000, steps: 443\n",
      "Episode 4: reward: 7.000, steps: 443\n",
      "Episode 5: reward: 7.000, steps: 443\n"
     ]
    }
   ],
   "source": [
    "np.random.seed(initial_seed)\n",
    "env.seed(initial_seed)\n",
    "a.__test__(env, episodes=5, visualize=False)"
   ]
  },
  {
   "cell_type": "code",
   "execution_count": 239,
   "metadata": {
    "collapsed": false
   },
   "outputs": [
    {
     "name": "stdout",
     "output_type": "stream",
     "text": [
      "Total reward 240.0\n"
     ]
    }
   ],
   "source": [
    "a.__replay__(env, condition=(lambda info : info is None or info['ale.lives'] > 2))"
   ]
  },
  {
   "cell_type": "code",
   "execution_count": 241,
   "metadata": {
    "collapsed": false
   },
   "outputs": [],
   "source": [
    "env.close()"
   ]
  },
  {
   "cell_type": "code",
   "execution_count": null,
   "metadata": {
    "collapsed": true
   },
   "outputs": [],
   "source": []
  }
 ],
 "metadata": {
  "kernelspec": {
   "display_name": "Python 2",
   "language": "python",
   "name": "python2"
  },
  "language_info": {
   "codemirror_mode": {
    "name": "ipython",
    "version": 2
   },
   "file_extension": ".py",
   "mimetype": "text/x-python",
   "name": "python",
   "nbconvert_exporter": "python",
   "pygments_lexer": "ipython2",
   "version": "2.7.10"
  }
 },
 "nbformat": 4,
 "nbformat_minor": 2
}
